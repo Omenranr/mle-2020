{
  "nbformat": 4,
  "nbformat_minor": 0,
  "metadata": {
    "colab": {
      "name": "movie_recommendation",
      "provenance": [],
      "collapsed_sections": [
        "_V_pUPEoqFhP",
        "-pGLCU0rpgPW",
        "olaF9oPOp-PO",
        "36XnGnIbsBOn",
        "eqfYVaCEsFBv",
        "Eiq2o2uqsi-Q",
        "yL0djYD5s1bH",
        "6lzXaUczw1Ox",
        "_75NjPhdB_a5"
      ]
    },
    "kernelspec": {
      "name": "python3",
      "display_name": "Python 3"
    }
  },
  "cells": [
    {
      "cell_type": "markdown",
      "metadata": {
        "id": "_V_pUPEoqFhP"
      },
      "source": [
        "#Cloning the github repository (execute if in google colab)"
      ]
    },
    {
      "cell_type": "code",
      "metadata": {
        "colab": {
          "base_uri": "https://localhost:8080/"
        },
        "id": "ZIYvpY2ucGHQ",
        "outputId": "50928996-80ef-465f-c4e7-a4f3c56b834c"
      },
      "source": [
        "!git clone https://github.com/Omenranr/mle-2020"
      ],
      "execution_count": null,
      "outputs": [
        {
          "output_type": "stream",
          "text": [
            "Cloning into 'mle-2020'...\n",
            "remote: Enumerating objects: 28, done.\u001b[K\n",
            "remote: Counting objects: 100% (28/28), done.\u001b[K\n",
            "remote: Compressing objects: 100% (20/20), done.\u001b[K\n",
            "remote: Total 28 (delta 5), reused 28 (delta 5), pack-reused 0\u001b[K\n",
            "Unpacking objects: 100% (28/28), done.\n"
          ],
          "name": "stdout"
        }
      ]
    },
    {
      "cell_type": "code",
      "metadata": {
        "colab": {
          "base_uri": "https://localhost:8080/"
        },
        "id": "jvS0TaFzp1te",
        "outputId": "8c83a439-b983-4114-b60b-512769202f80"
      },
      "source": [
        "cd mle-2020"
      ],
      "execution_count": 5,
      "outputs": [
        {
          "output_type": "stream",
          "text": [
            "/content/mle-2020\n"
          ],
          "name": "stdout"
        }
      ]
    },
    {
      "cell_type": "markdown",
      "metadata": {
        "id": "-pGLCU0rpgPW"
      },
      "source": [
        "#Libraries importation"
      ]
    },
    {
      "cell_type": "code",
      "metadata": {
        "id": "AcPVaVV7pfw-"
      },
      "source": [
        "import pandas as pd\n",
        "import numpy as np\n",
        "import matplotlib.pyplot as plt\n",
        "import seaborn as sns\n",
        "import sys\n",
        "import os\n",
        "from math import sqrt"
      ],
      "execution_count": 501,
      "outputs": []
    },
    {
      "cell_type": "markdown",
      "metadata": {
        "id": "olaF9oPOp-PO"
      },
      "source": [
        "#Data importation"
      ]
    },
    {
      "cell_type": "code",
      "metadata": {
        "id": "Dilfve9UcXeJ"
      },
      "source": [
        "users = pd.read_csv(\"data/users.csv\")\n",
        "movies = pd.read_csv(\"data/movies.csv\")\n",
        "ratings = pd.read_csv(\"data/ratings.csv\")"
      ],
      "execution_count": 6,
      "outputs": []
    },
    {
      "cell_type": "markdown",
      "metadata": {
        "id": "kj_iv6uop_z_"
      },
      "source": [
        "#Data exploration"
      ]
    },
    {
      "cell_type": "markdown",
      "metadata": {
        "id": "36XnGnIbsBOn"
      },
      "source": [
        "##First exploration of the data"
      ]
    },
    {
      "cell_type": "code",
      "metadata": {
        "colab": {
          "base_uri": "https://localhost:8080/"
        },
        "id": "Q_q1zR_12kXj",
        "outputId": "b7299103-a0c6-4779-eab1-f614955ef0cf"
      },
      "source": [
        "print(\"Users number {0}\".format(users[\"user_id\"].count()))\n",
        "print(\"Movies number {0}\".format(movies[\"movie_id\"].count()))\n",
        "print(\"Ratings number {0}\".format(ratings[\"user_id\"].count()))"
      ],
      "execution_count": 59,
      "outputs": [
        {
          "output_type": "stream",
          "text": [
            "Users number 6040\n",
            "Movies number 3883\n",
            "Ratings number 1000209\n"
          ],
          "name": "stdout"
        }
      ]
    },
    {
      "cell_type": "code",
      "metadata": {
        "colab": {
          "base_uri": "https://localhost:8080/",
          "height": 0
        },
        "id": "hYzDqzy6pytq",
        "outputId": "dcf15f21-3625-442b-e8cf-029933e056b1"
      },
      "source": [
        "users.head()"
      ],
      "execution_count": 7,
      "outputs": [
        {
          "output_type": "execute_result",
          "data": {
            "text/html": [
              "<div>\n",
              "<style scoped>\n",
              "    .dataframe tbody tr th:only-of-type {\n",
              "        vertical-align: middle;\n",
              "    }\n",
              "\n",
              "    .dataframe tbody tr th {\n",
              "        vertical-align: top;\n",
              "    }\n",
              "\n",
              "    .dataframe thead th {\n",
              "        text-align: right;\n",
              "    }\n",
              "</style>\n",
              "<table border=\"1\" class=\"dataframe\">\n",
              "  <thead>\n",
              "    <tr style=\"text-align: right;\">\n",
              "      <th></th>\n",
              "      <th>user_id</th>\n",
              "      <th>gender</th>\n",
              "      <th>age</th>\n",
              "      <th>occupation</th>\n",
              "      <th>zip_code</th>\n",
              "    </tr>\n",
              "  </thead>\n",
              "  <tbody>\n",
              "    <tr>\n",
              "      <th>0</th>\n",
              "      <td>0</td>\n",
              "      <td>F</td>\n",
              "      <td>1</td>\n",
              "      <td>10</td>\n",
              "      <td>48067</td>\n",
              "    </tr>\n",
              "    <tr>\n",
              "      <th>1</th>\n",
              "      <td>1</td>\n",
              "      <td>M</td>\n",
              "      <td>56</td>\n",
              "      <td>16</td>\n",
              "      <td>70072</td>\n",
              "    </tr>\n",
              "    <tr>\n",
              "      <th>2</th>\n",
              "      <td>2</td>\n",
              "      <td>M</td>\n",
              "      <td>25</td>\n",
              "      <td>15</td>\n",
              "      <td>55117</td>\n",
              "    </tr>\n",
              "    <tr>\n",
              "      <th>3</th>\n",
              "      <td>3</td>\n",
              "      <td>M</td>\n",
              "      <td>45</td>\n",
              "      <td>7</td>\n",
              "      <td>02460</td>\n",
              "    </tr>\n",
              "    <tr>\n",
              "      <th>4</th>\n",
              "      <td>4</td>\n",
              "      <td>M</td>\n",
              "      <td>25</td>\n",
              "      <td>20</td>\n",
              "      <td>55455</td>\n",
              "    </tr>\n",
              "  </tbody>\n",
              "</table>\n",
              "</div>"
            ],
            "text/plain": [
              "   user_id gender  age  occupation zip_code\n",
              "0        0      F    1          10    48067\n",
              "1        1      M   56          16    70072\n",
              "2        2      M   25          15    55117\n",
              "3        3      M   45           7    02460\n",
              "4        4      M   25          20    55455"
            ]
          },
          "metadata": {
            "tags": []
          },
          "execution_count": 7
        }
      ]
    },
    {
      "cell_type": "code",
      "metadata": {
        "colab": {
          "base_uri": "https://localhost:8080/",
          "height": 0
        },
        "id": "7v3m0jYFp6mC",
        "outputId": "9e83ee22-19aa-4edb-f40d-a062480cee26"
      },
      "source": [
        "movies.head()"
      ],
      "execution_count": 8,
      "outputs": [
        {
          "output_type": "execute_result",
          "data": {
            "text/html": [
              "<div>\n",
              "<style scoped>\n",
              "    .dataframe tbody tr th:only-of-type {\n",
              "        vertical-align: middle;\n",
              "    }\n",
              "\n",
              "    .dataframe tbody tr th {\n",
              "        vertical-align: top;\n",
              "    }\n",
              "\n",
              "    .dataframe thead th {\n",
              "        text-align: right;\n",
              "    }\n",
              "</style>\n",
              "<table border=\"1\" class=\"dataframe\">\n",
              "  <thead>\n",
              "    <tr style=\"text-align: right;\">\n",
              "      <th></th>\n",
              "      <th>movie_id</th>\n",
              "      <th>title</th>\n",
              "      <th>year</th>\n",
              "      <th>Animation</th>\n",
              "      <th>Children's</th>\n",
              "      <th>Comedy</th>\n",
              "      <th>Adventure</th>\n",
              "      <th>Fantasy</th>\n",
              "      <th>Romance</th>\n",
              "      <th>Drama</th>\n",
              "      <th>Action</th>\n",
              "      <th>Crime</th>\n",
              "      <th>Thriller</th>\n",
              "      <th>Horror</th>\n",
              "      <th>Sci-Fi</th>\n",
              "      <th>Documentary</th>\n",
              "      <th>War</th>\n",
              "      <th>Musical</th>\n",
              "      <th>Mystery</th>\n",
              "      <th>Film-Noir</th>\n",
              "      <th>Western</th>\n",
              "    </tr>\n",
              "  </thead>\n",
              "  <tbody>\n",
              "    <tr>\n",
              "      <th>0</th>\n",
              "      <td>0</td>\n",
              "      <td>Toy Story</td>\n",
              "      <td>1995</td>\n",
              "      <td>1.0</td>\n",
              "      <td>1.0</td>\n",
              "      <td>1.0</td>\n",
              "      <td>0.0</td>\n",
              "      <td>0.0</td>\n",
              "      <td>0.0</td>\n",
              "      <td>0.0</td>\n",
              "      <td>0.0</td>\n",
              "      <td>0.0</td>\n",
              "      <td>0.0</td>\n",
              "      <td>0.0</td>\n",
              "      <td>0.0</td>\n",
              "      <td>0.0</td>\n",
              "      <td>0.0</td>\n",
              "      <td>0.0</td>\n",
              "      <td>0.0</td>\n",
              "      <td>0.0</td>\n",
              "      <td>0.0</td>\n",
              "    </tr>\n",
              "    <tr>\n",
              "      <th>1</th>\n",
              "      <td>1</td>\n",
              "      <td>Jumanji</td>\n",
              "      <td>1995</td>\n",
              "      <td>0.0</td>\n",
              "      <td>1.0</td>\n",
              "      <td>0.0</td>\n",
              "      <td>1.0</td>\n",
              "      <td>1.0</td>\n",
              "      <td>0.0</td>\n",
              "      <td>0.0</td>\n",
              "      <td>0.0</td>\n",
              "      <td>0.0</td>\n",
              "      <td>0.0</td>\n",
              "      <td>0.0</td>\n",
              "      <td>0.0</td>\n",
              "      <td>0.0</td>\n",
              "      <td>0.0</td>\n",
              "      <td>0.0</td>\n",
              "      <td>0.0</td>\n",
              "      <td>0.0</td>\n",
              "      <td>0.0</td>\n",
              "    </tr>\n",
              "    <tr>\n",
              "      <th>2</th>\n",
              "      <td>2</td>\n",
              "      <td>Grumpier Old Men</td>\n",
              "      <td>1995</td>\n",
              "      <td>0.0</td>\n",
              "      <td>0.0</td>\n",
              "      <td>1.0</td>\n",
              "      <td>0.0</td>\n",
              "      <td>0.0</td>\n",
              "      <td>1.0</td>\n",
              "      <td>0.0</td>\n",
              "      <td>0.0</td>\n",
              "      <td>0.0</td>\n",
              "      <td>0.0</td>\n",
              "      <td>0.0</td>\n",
              "      <td>0.0</td>\n",
              "      <td>0.0</td>\n",
              "      <td>0.0</td>\n",
              "      <td>0.0</td>\n",
              "      <td>0.0</td>\n",
              "      <td>0.0</td>\n",
              "      <td>0.0</td>\n",
              "    </tr>\n",
              "    <tr>\n",
              "      <th>3</th>\n",
              "      <td>3</td>\n",
              "      <td>Waiting to Exhale</td>\n",
              "      <td>1995</td>\n",
              "      <td>0.0</td>\n",
              "      <td>0.0</td>\n",
              "      <td>1.0</td>\n",
              "      <td>0.0</td>\n",
              "      <td>0.0</td>\n",
              "      <td>0.0</td>\n",
              "      <td>1.0</td>\n",
              "      <td>0.0</td>\n",
              "      <td>0.0</td>\n",
              "      <td>0.0</td>\n",
              "      <td>0.0</td>\n",
              "      <td>0.0</td>\n",
              "      <td>0.0</td>\n",
              "      <td>0.0</td>\n",
              "      <td>0.0</td>\n",
              "      <td>0.0</td>\n",
              "      <td>0.0</td>\n",
              "      <td>0.0</td>\n",
              "    </tr>\n",
              "    <tr>\n",
              "      <th>4</th>\n",
              "      <td>4</td>\n",
              "      <td>Father of the Bride Part II</td>\n",
              "      <td>1995</td>\n",
              "      <td>0.0</td>\n",
              "      <td>0.0</td>\n",
              "      <td>1.0</td>\n",
              "      <td>0.0</td>\n",
              "      <td>0.0</td>\n",
              "      <td>0.0</td>\n",
              "      <td>0.0</td>\n",
              "      <td>0.0</td>\n",
              "      <td>0.0</td>\n",
              "      <td>0.0</td>\n",
              "      <td>0.0</td>\n",
              "      <td>0.0</td>\n",
              "      <td>0.0</td>\n",
              "      <td>0.0</td>\n",
              "      <td>0.0</td>\n",
              "      <td>0.0</td>\n",
              "      <td>0.0</td>\n",
              "      <td>0.0</td>\n",
              "    </tr>\n",
              "  </tbody>\n",
              "</table>\n",
              "</div>"
            ],
            "text/plain": [
              "   movie_id                        title  year  ...  Mystery  Film-Noir  Western\n",
              "0         0                    Toy Story  1995  ...      0.0        0.0      0.0\n",
              "1         1                      Jumanji  1995  ...      0.0        0.0      0.0\n",
              "2         2             Grumpier Old Men  1995  ...      0.0        0.0      0.0\n",
              "3         3            Waiting to Exhale  1995  ...      0.0        0.0      0.0\n",
              "4         4  Father of the Bride Part II  1995  ...      0.0        0.0      0.0\n",
              "\n",
              "[5 rows x 21 columns]"
            ]
          },
          "metadata": {
            "tags": []
          },
          "execution_count": 8
        }
      ]
    },
    {
      "cell_type": "code",
      "metadata": {
        "colab": {
          "base_uri": "https://localhost:8080/",
          "height": 0
        },
        "id": "UPT-5x1Fp7vJ",
        "outputId": "62f453b0-8a9c-4d9c-ea2d-d1e1c0ada83c"
      },
      "source": [
        "ratings.head()"
      ],
      "execution_count": 9,
      "outputs": [
        {
          "output_type": "execute_result",
          "data": {
            "text/html": [
              "<div>\n",
              "<style scoped>\n",
              "    .dataframe tbody tr th:only-of-type {\n",
              "        vertical-align: middle;\n",
              "    }\n",
              "\n",
              "    .dataframe tbody tr th {\n",
              "        vertical-align: top;\n",
              "    }\n",
              "\n",
              "    .dataframe thead th {\n",
              "        text-align: right;\n",
              "    }\n",
              "</style>\n",
              "<table border=\"1\" class=\"dataframe\">\n",
              "  <thead>\n",
              "    <tr style=\"text-align: right;\">\n",
              "      <th></th>\n",
              "      <th>user_id</th>\n",
              "      <th>movie_id</th>\n",
              "      <th>rating</th>\n",
              "    </tr>\n",
              "  </thead>\n",
              "  <tbody>\n",
              "    <tr>\n",
              "      <th>0</th>\n",
              "      <td>0</td>\n",
              "      <td>1192</td>\n",
              "      <td>5</td>\n",
              "    </tr>\n",
              "    <tr>\n",
              "      <th>1</th>\n",
              "      <td>0</td>\n",
              "      <td>660</td>\n",
              "      <td>3</td>\n",
              "    </tr>\n",
              "    <tr>\n",
              "      <th>2</th>\n",
              "      <td>0</td>\n",
              "      <td>913</td>\n",
              "      <td>3</td>\n",
              "    </tr>\n",
              "    <tr>\n",
              "      <th>3</th>\n",
              "      <td>0</td>\n",
              "      <td>3407</td>\n",
              "      <td>4</td>\n",
              "    </tr>\n",
              "    <tr>\n",
              "      <th>4</th>\n",
              "      <td>0</td>\n",
              "      <td>2354</td>\n",
              "      <td>5</td>\n",
              "    </tr>\n",
              "  </tbody>\n",
              "</table>\n",
              "</div>"
            ],
            "text/plain": [
              "   user_id  movie_id  rating\n",
              "0        0      1192       5\n",
              "1        0       660       3\n",
              "2        0       913       3\n",
              "3        0      3407       4\n",
              "4        0      2354       5"
            ]
          },
          "metadata": {
            "tags": []
          },
          "execution_count": 9
        }
      ]
    },
    {
      "cell_type": "markdown",
      "metadata": {
        "id": "eqfYVaCEsFBv"
      },
      "source": [
        "##Some data visualization"
      ]
    },
    {
      "cell_type": "markdown",
      "metadata": {
        "id": "Eiq2o2uqsi-Q"
      },
      "source": [
        "###Univariate data *visualization*"
      ]
    },
    {
      "cell_type": "markdown",
      "metadata": {
        "id": "yL0djYD5s1bH"
      },
      "source": [
        "####Data visualization related to users"
      ]
    },
    {
      "cell_type": "markdown",
      "metadata": {
        "id": "YwhF6cyHu445"
      },
      "source": [
        "We can see from the histogram that the age variable follows aproximately a normal distribution, with a mean = 35 and a mode = 25. The majority of the users are between 18 and 35."
      ]
    },
    {
      "cell_type": "code",
      "metadata": {
        "colab": {
          "base_uri": "https://localhost:8080/"
        },
        "id": "JlpmCMpevFOd",
        "outputId": "9127cc0a-86f2-443f-9f3e-c8ab35abc4cc"
      },
      "source": [
        "print(\"Age variable mode: {0}\".format(users[\"age\"].mode()))\n",
        "print(\"Age variable mean: {0}\".format(users[\"age\"].mean()))\n",
        "print(\"Age variable median: {0}\".format(users[\"age\"].median()))"
      ],
      "execution_count": 21,
      "outputs": [
        {
          "output_type": "stream",
          "text": [
            "Age variable mode: 0    25\n",
            "dtype: int64\n",
            "Age variable mean: 30.639238410596025\n",
            "Age variable median: 25.0\n"
          ],
          "name": "stdout"
        }
      ]
    },
    {
      "cell_type": "code",
      "metadata": {
        "colab": {
          "base_uri": "https://localhost:8080/",
          "height": 0
        },
        "id": "AX2Zn9lnp9eb",
        "outputId": "667e92c3-af88-49ed-adfa-997c3b0c2078"
      },
      "source": [
        "_ = plt.hist(users[\"age\"])"
      ],
      "execution_count": 42,
      "outputs": [
        {
          "output_type": "display_data",
          "data": {
            "image/png": "[encoded data removed]",
            "text/plain": [
              "<Figure size 432x288 with 1 Axes>"
            ]
          },
          "metadata": {
            "tags": [],
            "needs_background": "light"
          }
        }
      ]
    },
    {
      "cell_type": "markdown",
      "metadata": {
        "id": "JjDe_VipwOQR"
      },
      "source": [
        "The gender variable is clearely not balanced, in fact males constitute x2 of females number. This can impact the ratings and types of movies watched due to the difference of interest between the two genders, thus it can impact the recommendation."
      ]
    },
    {
      "cell_type": "code",
      "metadata": {
        "colab": {
          "base_uri": "https://localhost:8080/",
          "height": 0
        },
        "id": "Enoe0vPBswmT",
        "outputId": "8b43ddb1-f9a6-4473-b2bc-c4068e781e90"
      },
      "source": [
        "ax = sns.countplot(x = users['gender'])\n",
        "female, male = users['gender'].value_counts()\n",
        "print('Number of Females (0): ', female)\n",
        "print('Number of Males: (1)', male)"
      ],
      "execution_count": 22,
      "outputs": [
        {
          "output_type": "stream",
          "text": [
            "Number of Females (0):  4331\n",
            "Number of Males: (1) 1709\n"
          ],
          "name": "stdout"
        },
        {
          "output_type": "display_data",
          "data": {
            "image/png": "[encoded data removed]",
            "text/plain": [
              "<Figure size 432x288 with 1 Axes>"
            ]
          },
          "metadata": {
            "tags": [],
            "needs_background": "light"
          }
        }
      ]
    },
    {
      "cell_type": "markdown",
      "metadata": {
        "id": "6lzXaUczw1Ox"
      },
      "source": [
        "####Data visualization related to movies"
      ]
    },
    {
      "cell_type": "markdown",
      "metadata": {
        "id": "KGP9BTD8zSyE"
      },
      "source": [
        "We have two predominant movie types in our dataset. The first one is **drama** and **comedy**. Followed by **Romance**, **Thriller** and **Action**, and then **Children's**, **Adventure**, **Horror**, **Sci-Fi**...etc. The least frequent types are **Film-noir**, **Fantasy** and **Western**."
      ]
    },
    {
      "cell_type": "markdown",
      "metadata": {
        "id": "tc7nPVqe0TIL"
      },
      "source": [
        "The frequency of each type will influence the recommendations. In fact, movies belonging to these types have better chance to be recommended based on similarity. "
      ]
    },
    {
      "cell_type": "code",
      "metadata": {
        "id": "vIdunR1RtMhX"
      },
      "source": [
        "#generating the movies type frequency array\n",
        "moviesFreq = [movies[column].sum() for column in movies.drop([\"movie_id\", \"title\", \"year\"], axis=1).columns]"
      ],
      "execution_count": 53,
      "outputs": []
    },
    {
      "cell_type": "code",
      "metadata": {
        "colab": {
          "base_uri": "https://localhost:8080/",
          "height": 0
        },
        "id": "WJFv5I8XxK5r",
        "outputId": "5a4d9d3d-daa7-4d11-fcc3-acb9469f5ef3"
      },
      "source": [
        "f, ax = plt.subplots(figsize = (20, 20))\n",
        "_ = plt.bar(movies.drop([\"movie_id\", \"title\", \"year\"], axis=1).columns, moviesFreq)"
      ],
      "execution_count": 54,
      "outputs": [
        {
          "output_type": "display_data",
          "data": {
            "image/png": "[encoded data removed]",
            "text/plain": [
              "<Figure size 1440x1440 with 1 Axes>"
            ]
          },
          "metadata": {
            "tags": [],
            "needs_background": "light"
          }
        }
      ]
    },
    {
      "cell_type": "markdown",
      "metadata": {
        "id": "Wuacyaw60-Fn"
      },
      "source": [
        "The frequency of movies is increasing exponentially with time. This can also influence the recommendations knowing that newer movies are more frequent and thus have better presence in the platform."
      ]
    },
    {
      "cell_type": "code",
      "metadata": {
        "colab": {
          "base_uri": "https://localhost:8080/",
          "height": 0
        },
        "id": "-G2a0yFX02D7",
        "outputId": "e40a4c3d-a6c9-40b2-8ee1-d70ff52220a7"
      },
      "source": [
        "_ = plt.hist(movies[\"year\"])"
      ],
      "execution_count": 44,
      "outputs": [
        {
          "output_type": "display_data",
          "data": {
            "image/png": "[encoded data removed]",
            "text/plain": [
              "<Figure size 432x288 with 1 Axes>"
            ]
          },
          "metadata": {
            "tags": [],
            "needs_background": "light"
          }
        }
      ]
    },
    {
      "cell_type": "markdown",
      "metadata": {
        "id": "g-rndiIx1vAg"
      },
      "source": [
        "####Data visualization related to ratings"
      ]
    },
    {
      "cell_type": "markdown",
      "metadata": {
        "id": "5-qrdida3GS8"
      },
      "source": [
        "Ratings are very important, because it can be used to recommend movies based on how much users liked the movie with a users similarity approach."
      ]
    },
    {
      "cell_type": "code",
      "metadata": {
        "colab": {
          "base_uri": "https://localhost:8080/",
          "height": 0
        },
        "id": "fbWKtllg1xka",
        "outputId": "20f91284-ea9f-4501-c587-8de0f4a25af6"
      },
      "source": [
        "_ = plt.bar(ratings[\"rating\"].unique(), ratings[\"rating\"].value_counts())"
      ],
      "execution_count": 48,
      "outputs": [
        {
          "output_type": "display_data",
          "data": {
            "image/png": "[encoded data removed]",
            "text/plain": [
              "<Figure size 432x288 with 1 Axes>"
            ]
          },
          "metadata": {
            "tags": [],
            "needs_background": "light"
          }
        }
      ]
    },
    {
      "cell_type": "markdown",
      "metadata": {
        "id": "_75NjPhdB_a5"
      },
      "source": [
        "###Bivariate data visualization"
      ]
    },
    {
      "cell_type": "markdown",
      "metadata": {
        "id": "stLa80qACE9Q"
      },
      "source": [
        "We're going to see ratings by categories. To do that we're going to calculate for each category the number of movies beloging to it, then we're going to show for each category the number of 1,2,3,4 and 5 rates."
      ]
    },
    {
      "cell_type": "code",
      "metadata": {
        "id": "DuK6mCHbhVvY"
      },
      "source": [
        "categories = movies.drop([\"title\", \"year\", \"movie_id\"], axis=1).columns"
      ],
      "execution_count": 141,
      "outputs": []
    },
    {
      "cell_type": "code",
      "metadata": {
        "colab": {
          "base_uri": "https://localhost:8080/",
          "height": 0
        },
        "id": "YSaEfSFwFJwt",
        "outputId": "8a7f84e9-d4e1-473c-cfd7-0d17bee71b47"
      },
      "source": [
        "#Calculating number of each rating level for the different categories\n",
        "moviesRatings = movies.merge(ratings, on=\"movie_id\")\n",
        "moviesRatings.head()"
      ],
      "execution_count": 124,
      "outputs": [
        {
          "output_type": "execute_result",
          "data": {
            "text/html": [
              "<div>\n",
              "<style scoped>\n",
              "    .dataframe tbody tr th:only-of-type {\n",
              "        vertical-align: middle;\n",
              "    }\n",
              "\n",
              "    .dataframe tbody tr th {\n",
              "        vertical-align: top;\n",
              "    }\n",
              "\n",
              "    .dataframe thead th {\n",
              "        text-align: right;\n",
              "    }\n",
              "</style>\n",
              "<table border=\"1\" class=\"dataframe\">\n",
              "  <thead>\n",
              "    <tr style=\"text-align: right;\">\n",
              "      <th></th>\n",
              "      <th>movie_id</th>\n",
              "      <th>title</th>\n",
              "      <th>year</th>\n",
              "      <th>Animation</th>\n",
              "      <th>Children's</th>\n",
              "      <th>Comedy</th>\n",
              "      <th>Adventure</th>\n",
              "      <th>Fantasy</th>\n",
              "      <th>Romance</th>\n",
              "      <th>Drama</th>\n",
              "      <th>Action</th>\n",
              "      <th>Crime</th>\n",
              "      <th>Thriller</th>\n",
              "      <th>Horror</th>\n",
              "      <th>Sci-Fi</th>\n",
              "      <th>Documentary</th>\n",
              "      <th>War</th>\n",
              "      <th>Musical</th>\n",
              "      <th>Mystery</th>\n",
              "      <th>Film-Noir</th>\n",
              "      <th>Western</th>\n",
              "      <th>user_id</th>\n",
              "      <th>rating</th>\n",
              "    </tr>\n",
              "  </thead>\n",
              "  <tbody>\n",
              "    <tr>\n",
              "      <th>0</th>\n",
              "      <td>0</td>\n",
              "      <td>Toy Story</td>\n",
              "      <td>1995</td>\n",
              "      <td>1.0</td>\n",
              "      <td>1.0</td>\n",
              "      <td>1.0</td>\n",
              "      <td>0.0</td>\n",
              "      <td>0.0</td>\n",
              "      <td>0.0</td>\n",
              "      <td>0.0</td>\n",
              "      <td>0.0</td>\n",
              "      <td>0.0</td>\n",
              "      <td>0.0</td>\n",
              "      <td>0.0</td>\n",
              "      <td>0.0</td>\n",
              "      <td>0.0</td>\n",
              "      <td>0.0</td>\n",
              "      <td>0.0</td>\n",
              "      <td>0.0</td>\n",
              "      <td>0.0</td>\n",
              "      <td>0.0</td>\n",
              "      <td>0</td>\n",
              "      <td>5</td>\n",
              "    </tr>\n",
              "    <tr>\n",
              "      <th>1</th>\n",
              "      <td>0</td>\n",
              "      <td>Toy Story</td>\n",
              "      <td>1995</td>\n",
              "      <td>1.0</td>\n",
              "      <td>1.0</td>\n",
              "      <td>1.0</td>\n",
              "      <td>0.0</td>\n",
              "      <td>0.0</td>\n",
              "      <td>0.0</td>\n",
              "      <td>0.0</td>\n",
              "      <td>0.0</td>\n",
              "      <td>0.0</td>\n",
              "      <td>0.0</td>\n",
              "      <td>0.0</td>\n",
              "      <td>0.0</td>\n",
              "      <td>0.0</td>\n",
              "      <td>0.0</td>\n",
              "      <td>0.0</td>\n",
              "      <td>0.0</td>\n",
              "      <td>0.0</td>\n",
              "      <td>0.0</td>\n",
              "      <td>5</td>\n",
              "      <td>4</td>\n",
              "    </tr>\n",
              "    <tr>\n",
              "      <th>2</th>\n",
              "      <td>0</td>\n",
              "      <td>Toy Story</td>\n",
              "      <td>1995</td>\n",
              "      <td>1.0</td>\n",
              "      <td>1.0</td>\n",
              "      <td>1.0</td>\n",
              "      <td>0.0</td>\n",
              "      <td>0.0</td>\n",
              "      <td>0.0</td>\n",
              "      <td>0.0</td>\n",
              "      <td>0.0</td>\n",
              "      <td>0.0</td>\n",
              "      <td>0.0</td>\n",
              "      <td>0.0</td>\n",
              "      <td>0.0</td>\n",
              "      <td>0.0</td>\n",
              "      <td>0.0</td>\n",
              "      <td>0.0</td>\n",
              "      <td>0.0</td>\n",
              "      <td>0.0</td>\n",
              "      <td>0.0</td>\n",
              "      <td>7</td>\n",
              "      <td>4</td>\n",
              "    </tr>\n",
              "    <tr>\n",
              "      <th>3</th>\n",
              "      <td>0</td>\n",
              "      <td>Toy Story</td>\n",
              "      <td>1995</td>\n",
              "      <td>1.0</td>\n",
              "      <td>1.0</td>\n",
              "      <td>1.0</td>\n",
              "      <td>0.0</td>\n",
              "      <td>0.0</td>\n",
              "      <td>0.0</td>\n",
              "      <td>0.0</td>\n",
              "      <td>0.0</td>\n",
              "      <td>0.0</td>\n",
              "      <td>0.0</td>\n",
              "      <td>0.0</td>\n",
              "      <td>0.0</td>\n",
              "      <td>0.0</td>\n",
              "      <td>0.0</td>\n",
              "      <td>0.0</td>\n",
              "      <td>0.0</td>\n",
              "      <td>0.0</td>\n",
              "      <td>0.0</td>\n",
              "      <td>8</td>\n",
              "      <td>5</td>\n",
              "    </tr>\n",
              "    <tr>\n",
              "      <th>4</th>\n",
              "      <td>0</td>\n",
              "      <td>Toy Story</td>\n",
              "      <td>1995</td>\n",
              "      <td>1.0</td>\n",
              "      <td>1.0</td>\n",
              "      <td>1.0</td>\n",
              "      <td>0.0</td>\n",
              "      <td>0.0</td>\n",
              "      <td>0.0</td>\n",
              "      <td>0.0</td>\n",
              "      <td>0.0</td>\n",
              "      <td>0.0</td>\n",
              "      <td>0.0</td>\n",
              "      <td>0.0</td>\n",
              "      <td>0.0</td>\n",
              "      <td>0.0</td>\n",
              "      <td>0.0</td>\n",
              "      <td>0.0</td>\n",
              "      <td>0.0</td>\n",
              "      <td>0.0</td>\n",
              "      <td>0.0</td>\n",
              "      <td>9</td>\n",
              "      <td>5</td>\n",
              "    </tr>\n",
              "  </tbody>\n",
              "</table>\n",
              "</div>"
            ],
            "text/plain": [
              "   movie_id      title  year  Animation  ...  Film-Noir  Western  user_id  rating\n",
              "0         0  Toy Story  1995        1.0  ...        0.0      0.0        0       5\n",
              "1         0  Toy Story  1995        1.0  ...        0.0      0.0        5       4\n",
              "2         0  Toy Story  1995        1.0  ...        0.0      0.0        7       4\n",
              "3         0  Toy Story  1995        1.0  ...        0.0      0.0        8       5\n",
              "4         0  Toy Story  1995        1.0  ...        0.0      0.0        9       5\n",
              "\n",
              "[5 rows x 23 columns]"
            ]
          },
          "metadata": {
            "tags": []
          },
          "execution_count": 124
        }
      ]
    },
    {
      "cell_type": "code",
      "metadata": {
        "id": "kPa1y8aKFwgv"
      },
      "source": [
        "groupedMoviesRatings = moviesRatings.groupby(\"rating\")\n",
        "categoryRatings = pd.DataFrame(columns=categories)"
      ],
      "execution_count": 125,
      "outputs": []
    },
    {
      "cell_type": "code",
      "metadata": {
        "id": "nG-xB_i3GaMv"
      },
      "source": [
        "for rating in moviesRatings[\"rating\"].unique():\n",
        "  notCategory = [\"title\", \"movie_id\", \"year\", \"user_id\", \"rating\"]\n",
        "  ratingGroup = groupedMoviesRatings.get_group(rating).drop(notCategory, axis=1).sum()\n",
        "  ratingGroup[\"rating\"] = rating\n",
        "  categoryRatings = categoryRatings.append(ratingGroup, ignore_index=True)"
      ],
      "execution_count": 144,
      "outputs": []
    },
    {
      "cell_type": "code",
      "metadata": {
        "colab": {
          "base_uri": "https://localhost:8080/",
          "height": 0
        },
        "id": "z7jIUdF9e8M4",
        "outputId": "56a4ca92-983b-4262-e5cf-90bf1110bab7"
      },
      "source": [
        "categoryRatings.head()"
      ],
      "execution_count": 145,
      "outputs": [
        {
          "output_type": "execute_result",
          "data": {
            "text/html": [
              "<div>\n",
              "<style scoped>\n",
              "    .dataframe tbody tr th:only-of-type {\n",
              "        vertical-align: middle;\n",
              "    }\n",
              "\n",
              "    .dataframe tbody tr th {\n",
              "        vertical-align: top;\n",
              "    }\n",
              "\n",
              "    .dataframe thead th {\n",
              "        text-align: right;\n",
              "    }\n",
              "</style>\n",
              "<table border=\"1\" class=\"dataframe\">\n",
              "  <thead>\n",
              "    <tr style=\"text-align: right;\">\n",
              "      <th></th>\n",
              "      <th>Animation</th>\n",
              "      <th>Children's</th>\n",
              "      <th>Comedy</th>\n",
              "      <th>Adventure</th>\n",
              "      <th>Fantasy</th>\n",
              "      <th>Romance</th>\n",
              "      <th>Drama</th>\n",
              "      <th>Action</th>\n",
              "      <th>Crime</th>\n",
              "      <th>Thriller</th>\n",
              "      <th>Horror</th>\n",
              "      <th>Sci-Fi</th>\n",
              "      <th>Documentary</th>\n",
              "      <th>War</th>\n",
              "      <th>Musical</th>\n",
              "      <th>Mystery</th>\n",
              "      <th>Film-Noir</th>\n",
              "      <th>Western</th>\n",
              "      <th>rating</th>\n",
              "    </tr>\n",
              "  </thead>\n",
              "  <tbody>\n",
              "    <tr>\n",
              "      <th>0</th>\n",
              "      <td>10795.0</td>\n",
              "      <td>13574.0</td>\n",
              "      <td>73530.0</td>\n",
              "      <td>26608.0</td>\n",
              "      <td>6989.0</td>\n",
              "      <td>32059.0</td>\n",
              "      <td>96629.0</td>\n",
              "      <td>52187.0</td>\n",
              "      <td>20893.0</td>\n",
              "      <td>41408.0</td>\n",
              "      <td>12162.0</td>\n",
              "      <td>32441.0</td>\n",
              "      <td>2684.0</td>\n",
              "      <td>23423.0</td>\n",
              "      <td>10495.0</td>\n",
              "      <td>10039.0</td>\n",
              "      <td>7053.0</td>\n",
              "      <td>4965.0</td>\n",
              "      <td>5.0</td>\n",
              "    </tr>\n",
              "    <tr>\n",
              "      <th>1</th>\n",
              "      <td>15841.0</td>\n",
              "      <td>23704.0</td>\n",
              "      <td>123415.0</td>\n",
              "      <td>44343.0</td>\n",
              "      <td>11725.0</td>\n",
              "      <td>53440.0</td>\n",
              "      <td>131811.0</td>\n",
              "      <td>86579.0</td>\n",
              "      <td>28454.0</td>\n",
              "      <td>66808.0</td>\n",
              "      <td>21926.0</td>\n",
              "      <td>50756.0</td>\n",
              "      <td>3032.0</td>\n",
              "      <td>24119.0</td>\n",
              "      <td>14616.0</td>\n",
              "      <td>14261.0</td>\n",
              "      <td>6889.0</td>\n",
              "      <td>7346.0</td>\n",
              "      <td>4.0</td>\n",
              "    </tr>\n",
              "    <tr>\n",
              "      <th>2</th>\n",
              "      <td>10973.0</td>\n",
              "      <td>20396.0</td>\n",
              "      <td>96946.0</td>\n",
              "      <td>37867.0</td>\n",
              "      <td>10491.0</td>\n",
              "      <td>40428.0</td>\n",
              "      <td>84821.0</td>\n",
              "      <td>70728.0</td>\n",
              "      <td>19542.0</td>\n",
              "      <td>50127.0</td>\n",
              "      <td>21400.0</td>\n",
              "      <td>42892.0</td>\n",
              "      <td>1446.0</td>\n",
              "      <td>13684.0</td>\n",
              "      <td>10550.0</td>\n",
              "      <td>10117.0</td>\n",
              "      <td>3224.0</td>\n",
              "      <td>5357.0</td>\n",
              "      <td>3.0</td>\n",
              "    </tr>\n",
              "    <tr>\n",
              "      <th>3</th>\n",
              "      <td>3587.0</td>\n",
              "      <td>8637.0</td>\n",
              "      <td>41073.0</td>\n",
              "      <td>16641.0</td>\n",
              "      <td>4729.0</td>\n",
              "      <td>15249.0</td>\n",
              "      <td>29154.0</td>\n",
              "      <td>31432.0</td>\n",
              "      <td>7433.0</td>\n",
              "      <td>21256.0</td>\n",
              "      <td>11970.0</td>\n",
              "      <td>20153.0</td>\n",
              "      <td>477.0</td>\n",
              "      <td>4854.0</td>\n",
              "      <td>3779.0</td>\n",
              "      <td>4026.0</td>\n",
              "      <td>829.0</td>\n",
              "      <td>1945.0</td>\n",
              "      <td>2.0</td>\n",
              "    </tr>\n",
              "    <tr>\n",
              "      <th>4</th>\n",
              "      <td>2097.0</td>\n",
              "      <td>5875.0</td>\n",
              "      <td>21616.0</td>\n",
              "      <td>8494.0</td>\n",
              "      <td>2367.0</td>\n",
              "      <td>6347.0</td>\n",
              "      <td>12114.0</td>\n",
              "      <td>16531.0</td>\n",
              "      <td>3219.0</td>\n",
              "      <td>10081.0</td>\n",
              "      <td>8928.0</td>\n",
              "      <td>11052.0</td>\n",
              "      <td>271.0</td>\n",
              "      <td>2447.0</td>\n",
              "      <td>2093.0</td>\n",
              "      <td>1735.0</td>\n",
              "      <td>266.0</td>\n",
              "      <td>1070.0</td>\n",
              "      <td>1.0</td>\n",
              "    </tr>\n",
              "  </tbody>\n",
              "</table>\n",
              "</div>"
            ],
            "text/plain": [
              "   Animation  Children's    Comedy  ...  Film-Noir  Western  rating\n",
              "0    10795.0     13574.0   73530.0  ...     7053.0   4965.0     5.0\n",
              "1    15841.0     23704.0  123415.0  ...     6889.0   7346.0     4.0\n",
              "2    10973.0     20396.0   96946.0  ...     3224.0   5357.0     3.0\n",
              "3     3587.0      8637.0   41073.0  ...      829.0   1945.0     2.0\n",
              "4     2097.0      5875.0   21616.0  ...      266.0   1070.0     1.0\n",
              "\n",
              "[5 rows x 19 columns]"
            ]
          },
          "metadata": {
            "tags": []
          },
          "execution_count": 145
        }
      ]
    },
    {
      "cell_type": "code",
      "metadata": {
        "colab": {
          "base_uri": "https://localhost:8080/",
          "height": 0
        },
        "id": "svshkv61qxom",
        "outputId": "3d5b3ec0-df12-45ce-e232-6e5fb8e4ac3d"
      },
      "source": [
        "# set width of bar\n",
        "barWidth = 0.25\n",
        " \n",
        "# Set position of bar on X axis\n",
        "rs = [np.arange(len(values[0])) * 2]\n",
        "for i in range(1, 5):\n",
        "  rs.append([x + barWidth for x in rs[i-1]])\n",
        " \n",
        "# Make the plot\n",
        "fig, ax = plt.subplots(figsize = (20, 20))\n",
        "colors = [\"#006d77\", \"#52b788\", \"#95d5b2\", \"#fcbf49\", \"#d62828\"]\n",
        "labels = ['Five stars', 'Four stars', 'Three stars', 'Two stars', 'One star']\n",
        "for i in range(5):\n",
        "  plt.bar(rs[i], values[i], color=colors[i], width=barWidth, edgecolor='white', label=labels[i])\n",
        "# Add xticks on the middle of the group bars\n",
        "plt.xlabel('Categories', fontweight='bold')\n",
        "plt.xticks([2 * r + barWidth for r in range(len(values[0]))], categories)\n",
        " \n",
        "# Create legend & Show graphic\n",
        "plt.legend()\n",
        "plt.show()"
      ],
      "execution_count": 212,
      "outputs": [
        {
          "output_type": "display_data",
          "data": {
            "image/png": "[encoded data removed]",
            "text/plain": [
              "<Figure size 1440x1440 with 1 Axes>"
            ]
          },
          "metadata": {
            "tags": [],
            "needs_background": "light"
          }
        }
      ]
    },
    {
      "cell_type": "markdown",
      "metadata": {
        "id": "IQRN_wg3uace"
      },
      "source": [
        "From this visualization we can get the most rated categories + the rating distribution for each category. This gives as in insight on wether or not a movie belonging to a given category will have higher chances to be recommended."
      ]
    },
    {
      "cell_type": "markdown",
      "metadata": {
        "id": "sYBaNjjsvPI_"
      },
      "source": [
        "#Movies recommendation"
      ]
    },
    {
      "cell_type": "markdown",
      "metadata": {
        "id": "871cdEYKvhJe"
      },
      "source": [
        "There is two main technics that can be applied to this dataset to perform movies recommendation. The first one is the content filtering based recommendation, the second one is the collaborative filtering based recommendation. We're going to implement them both."
      ]
    },
    {
      "cell_type": "markdown",
      "metadata": {
        "id": "C92Utr7YxLcw"
      },
      "source": [
        "##Content-based filtering\n",
        "Method description:\\\n",
        "The content-based filtering is based on ratings given by a specific user to recommend him items similar to what he liked the most. This is very good because it's specific to each user.\\\n",
        "Steps:\n",
        "1. Implementing a similarity measure between movies\n",
        "2. Getting the top rated movies for a given user\n",
        "3. Recommending a movie using the top similar movie to each top rated movie by the user."
      ]
    },
    {
      "cell_type": "markdown",
      "metadata": {
        "id": "tPIPjFPc2q6a"
      },
      "source": [
        "###1- calculating a similarity measure between movies"
      ]
    },
    {
      "cell_type": "markdown",
      "metadata": {
        "id": "97qIHBa23JBK"
      },
      "source": [
        "To get the similarity between two movies we calculate the sum of the element wise multiplication between the two one-hot encoded category arrays. This will give the number of categories two movies share."
      ]
    },
    {
      "cell_type": "code",
      "metadata": {
        "id": "4UmMJego9SlP"
      },
      "source": [
        "movieCategories = movies.drop([\"title\", \"movie_id\", \"year\"], axis=1)"
      ],
      "execution_count": 257,
      "outputs": []
    },
    {
      "cell_type": "code",
      "metadata": {
        "id": "VWp1aDF45LQz"
      },
      "source": [
        "def getSimilarity(topMovies, allMovies):\n",
        "  '''\n",
        "  description: This function return the similarity score between a given movie and the other movies in the dataset\n",
        "  parameters:\n",
        "    movie: category one-hot encoded dataFrame.\n",
        "    allMovies: dataset's movies dataFrame.\n",
        "  output:\n",
        "    similarity: array(number_of_movies, 1) of the similarity score between the movie and the other ones.\n",
        "  '''\n",
        "  similarity =  np.matmul(topMovies.values, allMovies.values.T)\n",
        "  return similarity"
      ],
      "execution_count": 348,
      "outputs": []
    },
    {
      "cell_type": "markdown",
      "metadata": {
        "id": "8oT6znPd_DH3"
      },
      "source": [
        "###2- Getting the top rated movies for a given user"
      ]
    },
    {
      "cell_type": "code",
      "metadata": {
        "id": "280CCVSY_FtU"
      },
      "source": [
        "def getUserTopMovies(user_id, movies, ratings, limit=None):\n",
        "  '''\n",
        "  description: This function returns the top rated movies by a given user.\n",
        "  parameters:\n",
        "    user_id: the user's id.\n",
        "    movies: all the movies in the dataset.\n",
        "    ratings: all the ratings in the dataset.\n",
        "  output:\n",
        "    topMovies: dataFrame of the top rated movies.\n",
        "  '''\n",
        "  topMovies = ratings[ratings[\"user_id\"] == user_id].sort_values(by=\"rating\", ascending=False)\n",
        "  if(limit):\n",
        "    topMovies = topMovies.head(limit)\n",
        "  topMovies = movies.merge(topMovies, on=\"movie_id\")\n",
        "  return topMovies"
      ],
      "execution_count": 356,
      "outputs": []
    },
    {
      "cell_type": "code",
      "metadata": {
        "colab": {
          "base_uri": "https://localhost:8080/",
          "height": 0
        },
        "id": "J-m4ZifeAe9_",
        "outputId": "d6f93648-e72d-453c-9bd2-71e28f3e42e8"
      },
      "source": [
        "getUserTopMovies(0, movies, ratings, limit=5)"
      ],
      "execution_count": 357,
      "outputs": [
        {
          "output_type": "execute_result",
          "data": {
            "text/html": [
              "<div>\n",
              "<style scoped>\n",
              "    .dataframe tbody tr th:only-of-type {\n",
              "        vertical-align: middle;\n",
              "    }\n",
              "\n",
              "    .dataframe tbody tr th {\n",
              "        vertical-align: top;\n",
              "    }\n",
              "\n",
              "    .dataframe thead th {\n",
              "        text-align: right;\n",
              "    }\n",
              "</style>\n",
              "<table border=\"1\" class=\"dataframe\">\n",
              "  <thead>\n",
              "    <tr style=\"text-align: right;\">\n",
              "      <th></th>\n",
              "      <th>movie_id</th>\n",
              "      <th>title</th>\n",
              "      <th>year</th>\n",
              "      <th>Animation</th>\n",
              "      <th>Children's</th>\n",
              "      <th>Comedy</th>\n",
              "      <th>Adventure</th>\n",
              "      <th>Fantasy</th>\n",
              "      <th>Romance</th>\n",
              "      <th>Drama</th>\n",
              "      <th>Action</th>\n",
              "      <th>Crime</th>\n",
              "      <th>Thriller</th>\n",
              "      <th>Horror</th>\n",
              "      <th>Sci-Fi</th>\n",
              "      <th>Documentary</th>\n",
              "      <th>War</th>\n",
              "      <th>Musical</th>\n",
              "      <th>Mystery</th>\n",
              "      <th>Film-Noir</th>\n",
              "      <th>Western</th>\n",
              "      <th>user_id</th>\n",
              "      <th>rating</th>\n",
              "    </tr>\n",
              "  </thead>\n",
              "  <tbody>\n",
              "    <tr>\n",
              "      <th>0</th>\n",
              "      <td>0</td>\n",
              "      <td>Toy Story</td>\n",
              "      <td>1995</td>\n",
              "      <td>1.0</td>\n",
              "      <td>1.0</td>\n",
              "      <td>1.0</td>\n",
              "      <td>0.0</td>\n",
              "      <td>0.0</td>\n",
              "      <td>0.0</td>\n",
              "      <td>0.0</td>\n",
              "      <td>0.0</td>\n",
              "      <td>0.0</td>\n",
              "      <td>0.0</td>\n",
              "      <td>0.0</td>\n",
              "      <td>0.0</td>\n",
              "      <td>0.0</td>\n",
              "      <td>0.0</td>\n",
              "      <td>0.0</td>\n",
              "      <td>0.0</td>\n",
              "      <td>0.0</td>\n",
              "      <td>0.0</td>\n",
              "      <td>0</td>\n",
              "      <td>5</td>\n",
              "    </tr>\n",
              "    <tr>\n",
              "      <th>1</th>\n",
              "      <td>1028</td>\n",
              "      <td>Dumbo</td>\n",
              "      <td>1941</td>\n",
              "      <td>1.0</td>\n",
              "      <td>1.0</td>\n",
              "      <td>0.0</td>\n",
              "      <td>0.0</td>\n",
              "      <td>0.0</td>\n",
              "      <td>0.0</td>\n",
              "      <td>0.0</td>\n",
              "      <td>0.0</td>\n",
              "      <td>0.0</td>\n",
              "      <td>0.0</td>\n",
              "      <td>0.0</td>\n",
              "      <td>0.0</td>\n",
              "      <td>0.0</td>\n",
              "      <td>0.0</td>\n",
              "      <td>1.0</td>\n",
              "      <td>0.0</td>\n",
              "      <td>0.0</td>\n",
              "      <td>0.0</td>\n",
              "      <td>0</td>\n",
              "      <td>5</td>\n",
              "    </tr>\n",
              "    <tr>\n",
              "      <th>2</th>\n",
              "      <td>1192</td>\n",
              "      <td>One Flew Over the Cuckoo's Nest</td>\n",
              "      <td>1975</td>\n",
              "      <td>0.0</td>\n",
              "      <td>0.0</td>\n",
              "      <td>0.0</td>\n",
              "      <td>0.0</td>\n",
              "      <td>0.0</td>\n",
              "      <td>0.0</td>\n",
              "      <td>1.0</td>\n",
              "      <td>0.0</td>\n",
              "      <td>0.0</td>\n",
              "      <td>0.0</td>\n",
              "      <td>0.0</td>\n",
              "      <td>0.0</td>\n",
              "      <td>0.0</td>\n",
              "      <td>0.0</td>\n",
              "      <td>0.0</td>\n",
              "      <td>0.0</td>\n",
              "      <td>0.0</td>\n",
              "      <td>0.0</td>\n",
              "      <td>0</td>\n",
              "      <td>5</td>\n",
              "    </tr>\n",
              "    <tr>\n",
              "      <th>3</th>\n",
              "      <td>1960</td>\n",
              "      <td>Rain Man</td>\n",
              "      <td>1988</td>\n",
              "      <td>0.0</td>\n",
              "      <td>0.0</td>\n",
              "      <td>0.0</td>\n",
              "      <td>0.0</td>\n",
              "      <td>0.0</td>\n",
              "      <td>0.0</td>\n",
              "      <td>1.0</td>\n",
              "      <td>0.0</td>\n",
              "      <td>0.0</td>\n",
              "      <td>0.0</td>\n",
              "      <td>0.0</td>\n",
              "      <td>0.0</td>\n",
              "      <td>0.0</td>\n",
              "      <td>0.0</td>\n",
              "      <td>0.0</td>\n",
              "      <td>0.0</td>\n",
              "      <td>0.0</td>\n",
              "      <td>0.0</td>\n",
              "      <td>0</td>\n",
              "      <td>5</td>\n",
              "    </tr>\n",
              "    <tr>\n",
              "      <th>4</th>\n",
              "      <td>3104</td>\n",
              "      <td>Awakenings</td>\n",
              "      <td>1990</td>\n",
              "      <td>0.0</td>\n",
              "      <td>0.0</td>\n",
              "      <td>0.0</td>\n",
              "      <td>0.0</td>\n",
              "      <td>0.0</td>\n",
              "      <td>0.0</td>\n",
              "      <td>1.0</td>\n",
              "      <td>0.0</td>\n",
              "      <td>0.0</td>\n",
              "      <td>0.0</td>\n",
              "      <td>0.0</td>\n",
              "      <td>0.0</td>\n",
              "      <td>0.0</td>\n",
              "      <td>0.0</td>\n",
              "      <td>0.0</td>\n",
              "      <td>0.0</td>\n",
              "      <td>0.0</td>\n",
              "      <td>0.0</td>\n",
              "      <td>0</td>\n",
              "      <td>5</td>\n",
              "    </tr>\n",
              "  </tbody>\n",
              "</table>\n",
              "</div>"
            ],
            "text/plain": [
              "   movie_id                            title  year  ...  Western  user_id  rating\n",
              "0         0                        Toy Story  1995  ...      0.0        0       5\n",
              "1      1028                            Dumbo  1941  ...      0.0        0       5\n",
              "2      1192  One Flew Over the Cuckoo's Nest  1975  ...      0.0        0       5\n",
              "3      1960                         Rain Man  1988  ...      0.0        0       5\n",
              "4      3104                       Awakenings  1990  ...      0.0        0       5\n",
              "\n",
              "[5 rows x 23 columns]"
            ]
          },
          "metadata": {
            "tags": []
          },
          "execution_count": 357
        }
      ]
    },
    {
      "cell_type": "markdown",
      "metadata": {
        "id": "onRYHxSIBU83"
      },
      "source": [
        "###3- recommending a movie"
      ]
    },
    {
      "cell_type": "code",
      "metadata": {
        "id": "tlkjMm8cBX9W"
      },
      "source": [
        "def recommendMovie(user_id, movies, ratings, limit=None):\n",
        "  '''\n",
        "  description: this function gives a movie recommendation using content-based approach, given a user_id, movies of the dataset and ratings.\n",
        "  parameters:\n",
        "    user_id: the user_id we want to recommend to.\n",
        "    movies: movies of our dataset.\n",
        "    ratings: ratings of our dataset.\n",
        "    limit: limit of top liked movies by user we want to keep.\n",
        "  output:\n",
        "    moviesRecommendation: dataFrame of the recommended movies.\n",
        "  '''\n",
        "  notCategory = [\"movie_id\", \"title\", \"year\"]\n",
        "  #getting the user's top liked movies:\n",
        "  topMovies = getUserTopMovies(user_id, movies, ratings, limit)\n",
        "  topMoviesCategories = topMovies.drop(notCategory + [\"user_id\", \"rating\"], axis=1)\n",
        "  moviesCategories = movies.drop(notCategory, axis=1)\n",
        "  similarity = getSimilarity(topMoviesCategories, moviesCategories)\n",
        "  similarity = pd.DataFrame(similarity, columns=list(movies[\"movie_id\"]))\n",
        "  recommendedMovieIds = list(similarity.idxmax(axis=1).drop_duplicates())\n",
        "  return movies.iloc[recommendedMovieIds]"
      ],
      "execution_count": 523,
      "outputs": []
    },
    {
      "cell_type": "code",
      "metadata": {
        "id": "BHSjlUybChE8"
      },
      "source": [
        "recommendedMovies = recommendMovie(1, movies, ratings, limit=10)"
      ],
      "execution_count": 524,
      "outputs": []
    },
    {
      "cell_type": "code",
      "metadata": {
        "colab": {
          "base_uri": "https://localhost:8080/",
          "height": 375
        },
        "id": "Mwt_A5ZZCj45",
        "outputId": "d127ff61-b212-49aa-939f-7eb26c76449b"
      },
      "source": [
        "recommendedMovies"
      ],
      "execution_count": 525,
      "outputs": [
        {
          "output_type": "execute_result",
          "data": {
            "text/html": [
              "<div>\n",
              "<style scoped>\n",
              "    .dataframe tbody tr th:only-of-type {\n",
              "        vertical-align: middle;\n",
              "    }\n",
              "\n",
              "    .dataframe tbody tr th {\n",
              "        vertical-align: top;\n",
              "    }\n",
              "\n",
              "    .dataframe thead th {\n",
              "        text-align: right;\n",
              "    }\n",
              "</style>\n",
              "<table border=\"1\" class=\"dataframe\">\n",
              "  <thead>\n",
              "    <tr style=\"text-align: right;\">\n",
              "      <th></th>\n",
              "      <th>movie_id</th>\n",
              "      <th>title</th>\n",
              "      <th>year</th>\n",
              "      <th>Animation</th>\n",
              "      <th>Children's</th>\n",
              "      <th>Comedy</th>\n",
              "      <th>Adventure</th>\n",
              "      <th>Fantasy</th>\n",
              "      <th>Romance</th>\n",
              "      <th>Drama</th>\n",
              "      <th>Action</th>\n",
              "      <th>Crime</th>\n",
              "      <th>Thriller</th>\n",
              "      <th>Horror</th>\n",
              "      <th>Sci-Fi</th>\n",
              "      <th>Documentary</th>\n",
              "      <th>War</th>\n",
              "      <th>Musical</th>\n",
              "      <th>Mystery</th>\n",
              "      <th>Film-Noir</th>\n",
              "      <th>Western</th>\n",
              "    </tr>\n",
              "  </thead>\n",
              "  <tbody>\n",
              "    <tr>\n",
              "      <th>109</th>\n",
              "      <td>110</td>\n",
              "      <td>Taxi Driver</td>\n",
              "      <td>1976</td>\n",
              "      <td>0.0</td>\n",
              "      <td>0.0</td>\n",
              "      <td>0.0</td>\n",
              "      <td>0.0</td>\n",
              "      <td>0.0</td>\n",
              "      <td>0.0</td>\n",
              "      <td>1.0</td>\n",
              "      <td>0.0</td>\n",
              "      <td>0.0</td>\n",
              "      <td>1.0</td>\n",
              "      <td>0.0</td>\n",
              "      <td>0.0</td>\n",
              "      <td>0.0</td>\n",
              "      <td>0.0</td>\n",
              "      <td>0.0</td>\n",
              "      <td>0.0</td>\n",
              "      <td>0.0</td>\n",
              "      <td>0.0</td>\n",
              "    </tr>\n",
              "    <tr>\n",
              "      <th>159</th>\n",
              "      <td>160</td>\n",
              "      <td>Crimson Tide</td>\n",
              "      <td>1995</td>\n",
              "      <td>0.0</td>\n",
              "      <td>0.0</td>\n",
              "      <td>0.0</td>\n",
              "      <td>0.0</td>\n",
              "      <td>0.0</td>\n",
              "      <td>0.0</td>\n",
              "      <td>1.0</td>\n",
              "      <td>0.0</td>\n",
              "      <td>0.0</td>\n",
              "      <td>1.0</td>\n",
              "      <td>0.0</td>\n",
              "      <td>0.0</td>\n",
              "      <td>0.0</td>\n",
              "      <td>1.0</td>\n",
              "      <td>0.0</td>\n",
              "      <td>0.0</td>\n",
              "      <td>0.0</td>\n",
              "      <td>0.0</td>\n",
              "    </tr>\n",
              "    <tr>\n",
              "      <th>3</th>\n",
              "      <td>3</td>\n",
              "      <td>Waiting to Exhale</td>\n",
              "      <td>1995</td>\n",
              "      <td>0.0</td>\n",
              "      <td>0.0</td>\n",
              "      <td>1.0</td>\n",
              "      <td>0.0</td>\n",
              "      <td>0.0</td>\n",
              "      <td>0.0</td>\n",
              "      <td>1.0</td>\n",
              "      <td>0.0</td>\n",
              "      <td>0.0</td>\n",
              "      <td>0.0</td>\n",
              "      <td>0.0</td>\n",
              "      <td>0.0</td>\n",
              "      <td>0.0</td>\n",
              "      <td>0.0</td>\n",
              "      <td>0.0</td>\n",
              "      <td>0.0</td>\n",
              "      <td>0.0</td>\n",
              "      <td>0.0</td>\n",
              "    </tr>\n",
              "    <tr>\n",
              "      <th>10</th>\n",
              "      <td>10</td>\n",
              "      <td>American President, The</td>\n",
              "      <td>1995</td>\n",
              "      <td>0.0</td>\n",
              "      <td>0.0</td>\n",
              "      <td>1.0</td>\n",
              "      <td>0.0</td>\n",
              "      <td>0.0</td>\n",
              "      <td>1.0</td>\n",
              "      <td>1.0</td>\n",
              "      <td>0.0</td>\n",
              "      <td>0.0</td>\n",
              "      <td>0.0</td>\n",
              "      <td>0.0</td>\n",
              "      <td>0.0</td>\n",
              "      <td>0.0</td>\n",
              "      <td>0.0</td>\n",
              "      <td>0.0</td>\n",
              "      <td>0.0</td>\n",
              "      <td>0.0</td>\n",
              "      <td>0.0</td>\n",
              "    </tr>\n",
              "    <tr>\n",
              "      <th>21</th>\n",
              "      <td>21</td>\n",
              "      <td>Copycat</td>\n",
              "      <td>1995</td>\n",
              "      <td>0.0</td>\n",
              "      <td>0.0</td>\n",
              "      <td>0.0</td>\n",
              "      <td>0.0</td>\n",
              "      <td>0.0</td>\n",
              "      <td>0.0</td>\n",
              "      <td>1.0</td>\n",
              "      <td>0.0</td>\n",
              "      <td>1.0</td>\n",
              "      <td>1.0</td>\n",
              "      <td>0.0</td>\n",
              "      <td>0.0</td>\n",
              "      <td>0.0</td>\n",
              "      <td>0.0</td>\n",
              "      <td>0.0</td>\n",
              "      <td>0.0</td>\n",
              "      <td>0.0</td>\n",
              "      <td>0.0</td>\n",
              "    </tr>\n",
              "    <tr>\n",
              "      <th>15</th>\n",
              "      <td>15</td>\n",
              "      <td>Casino</td>\n",
              "      <td>1995</td>\n",
              "      <td>0.0</td>\n",
              "      <td>0.0</td>\n",
              "      <td>0.0</td>\n",
              "      <td>0.0</td>\n",
              "      <td>0.0</td>\n",
              "      <td>0.0</td>\n",
              "      <td>1.0</td>\n",
              "      <td>0.0</td>\n",
              "      <td>0.0</td>\n",
              "      <td>1.0</td>\n",
              "      <td>0.0</td>\n",
              "      <td>0.0</td>\n",
              "      <td>0.0</td>\n",
              "      <td>0.0</td>\n",
              "      <td>0.0</td>\n",
              "      <td>0.0</td>\n",
              "      <td>0.0</td>\n",
              "      <td>0.0</td>\n",
              "    </tr>\n",
              "    <tr>\n",
              "      <th>23</th>\n",
              "      <td>23</td>\n",
              "      <td>Powder</td>\n",
              "      <td>1995</td>\n",
              "      <td>0.0</td>\n",
              "      <td>0.0</td>\n",
              "      <td>0.0</td>\n",
              "      <td>0.0</td>\n",
              "      <td>0.0</td>\n",
              "      <td>0.0</td>\n",
              "      <td>1.0</td>\n",
              "      <td>0.0</td>\n",
              "      <td>0.0</td>\n",
              "      <td>0.0</td>\n",
              "      <td>0.0</td>\n",
              "      <td>1.0</td>\n",
              "      <td>0.0</td>\n",
              "      <td>0.0</td>\n",
              "      <td>0.0</td>\n",
              "      <td>0.0</td>\n",
              "      <td>0.0</td>\n",
              "      <td>0.0</td>\n",
              "    </tr>\n",
              "  </tbody>\n",
              "</table>\n",
              "</div>"
            ],
            "text/plain": [
              "     movie_id                    title  year  ...  Mystery  Film-Noir  Western\n",
              "109       110              Taxi Driver  1976  ...      0.0        0.0      0.0\n",
              "159       160             Crimson Tide  1995  ...      0.0        0.0      0.0\n",
              "3           3        Waiting to Exhale  1995  ...      0.0        0.0      0.0\n",
              "10         10  American President, The  1995  ...      0.0        0.0      0.0\n",
              "21         21                  Copycat  1995  ...      0.0        0.0      0.0\n",
              "15         15                   Casino  1995  ...      0.0        0.0      0.0\n",
              "23         23                   Powder  1995  ...      0.0        0.0      0.0\n",
              "\n",
              "[7 rows x 21 columns]"
            ]
          },
          "metadata": {
            "tags": []
          },
          "execution_count": 525
        }
      ]
    },
    {
      "cell_type": "markdown",
      "metadata": {
        "id": "zKB-VETMNLji"
      },
      "source": [
        "##Collaborative filtering\n",
        "Collaborative filtering is based on the similarity between the ratings of the targeted user and the other ratings from the other users. By calculating this similarity we can then recommend movies that have the highest similarity score.\\\n",
        "Steps:\n",
        "1. Get the watched movies of the targeted user and the similar users\n",
        "2. Calculating a similarity score (Pearson's score) \n",
        "3. Do a recommendation based on the top nearest movies"
      ]
    },
    {
      "cell_type": "markdown",
      "metadata": {
        "id": "KNC1yUlzSj1e"
      },
      "source": [
        "Since we are going to use only the ratings we don't need category data, thus we will remove it."
      ]
    },
    {
      "cell_type": "code",
      "metadata": {
        "id": "gIITUmQBNNKC"
      },
      "source": [
        "noCategoriesMovies = movies[[\"movie_id\", \"title\", \"year\"]]"
      ],
      "execution_count": 466,
      "outputs": []
    },
    {
      "cell_type": "code",
      "metadata": {
        "colab": {
          "base_uri": "https://localhost:8080/",
          "height": 136
        },
        "id": "EcNfpb_5V2E2",
        "outputId": "7dab6cff-88fa-4f14-ba91-03f18a318a59"
      },
      "source": [
        "noCategoriesMovies.head(3)"
      ],
      "execution_count": 467,
      "outputs": [
        {
          "output_type": "execute_result",
          "data": {
            "text/html": [
              "<div>\n",
              "<style scoped>\n",
              "    .dataframe tbody tr th:only-of-type {\n",
              "        vertical-align: middle;\n",
              "    }\n",
              "\n",
              "    .dataframe tbody tr th {\n",
              "        vertical-align: top;\n",
              "    }\n",
              "\n",
              "    .dataframe thead th {\n",
              "        text-align: right;\n",
              "    }\n",
              "</style>\n",
              "<table border=\"1\" class=\"dataframe\">\n",
              "  <thead>\n",
              "    <tr style=\"text-align: right;\">\n",
              "      <th></th>\n",
              "      <th>movie_id</th>\n",
              "      <th>title</th>\n",
              "      <th>year</th>\n",
              "    </tr>\n",
              "  </thead>\n",
              "  <tbody>\n",
              "    <tr>\n",
              "      <th>0</th>\n",
              "      <td>0</td>\n",
              "      <td>Toy Story</td>\n",
              "      <td>1995</td>\n",
              "    </tr>\n",
              "    <tr>\n",
              "      <th>1</th>\n",
              "      <td>1</td>\n",
              "      <td>Jumanji</td>\n",
              "      <td>1995</td>\n",
              "    </tr>\n",
              "    <tr>\n",
              "      <th>2</th>\n",
              "      <td>2</td>\n",
              "      <td>Grumpier Old Men</td>\n",
              "      <td>1995</td>\n",
              "    </tr>\n",
              "  </tbody>\n",
              "</table>\n",
              "</div>"
            ],
            "text/plain": [
              "   movie_id             title  year\n",
              "0         0         Toy Story  1995\n",
              "1         1           Jumanji  1995\n",
              "2         2  Grumpier Old Men  1995"
            ]
          },
          "metadata": {
            "tags": []
          },
          "execution_count": 467
        }
      ]
    },
    {
      "cell_type": "markdown",
      "metadata": {
        "id": "WNIrVNc6V_O3"
      },
      "source": [
        "###1. Get the watched movies of the targeted user:\n",
        "We're going to get the watched movies and the ratings given to each movie by a targeted user from the ratings + movies dataFrames."
      ]
    },
    {
      "cell_type": "markdown",
      "metadata": {
        "id": "LaGMtYgBXAk_"
      },
      "source": [
        "The function will also get the users who watched the same movies as our targeted user."
      ]
    },
    {
      "cell_type": "code",
      "metadata": {
        "id": "Dyc6RV-ATBE2"
      },
      "source": [
        "def getWatchedMovies(user_id, ratings, movies):\n",
        "  '''\n",
        "  description: this function returns the watched movies given a user id.\n",
        "  parameters:\n",
        "    user_id: the user's id\n",
        "    ratings: the whole ratings dataFrame\n",
        "    movies: the whole movies dataFrame\n",
        "  output:\n",
        "    watchedMovies: a dataFrame containing the informations about the movies watched\n",
        "  '''\n",
        "  watchedMovies = ratings[ratings[\"user_id\"] == user_id].sort_values(by=\"rating\", ascending=False)\n",
        "  watchedMovies =  movies.merge(watchedMovies, on=\"movie_id\")\n",
        "  similarUsers = ratings[ratings['movie_id'].isin(watchedMovies['movie_id'].tolist())]\n",
        "  return watchedMovies, similarUsers"
      ],
      "execution_count": 475,
      "outputs": []
    },
    {
      "cell_type": "code",
      "metadata": {
        "id": "j83hPr4rW0TK"
      },
      "source": [
        "watchedMovies, similarUsers = getWatchedMovies(0, ratings, noCategoriesMovies)"
      ],
      "execution_count": 476,
      "outputs": []
    },
    {
      "cell_type": "markdown",
      "metadata": {
        "id": "4P3iXS4Fgdbb"
      },
      "source": [
        "visualization of the users with similar watched movies (user_id=1)"
      ]
    },
    {
      "cell_type": "code",
      "metadata": {
        "id": "ys0W0iAeY2lj"
      },
      "source": [
        "usersSubsetGroup = similarUsers.groupby(['user_id'])"
      ],
      "execution_count": 482,
      "outputs": []
    },
    {
      "cell_type": "code",
      "metadata": {
        "colab": {
          "base_uri": "https://localhost:8080/",
          "height": 254
        },
        "id": "gvey9Pg5ZHDy",
        "outputId": "50470b51-dd5b-457c-e92e-23d156a62751"
      },
      "source": [
        "usersSubsetGroup.get_group(1)"
      ],
      "execution_count": 484,
      "outputs": [
        {
          "output_type": "execute_result",
          "data": {
            "text/html": [
              "<div>\n",
              "<style scoped>\n",
              "    .dataframe tbody tr th:only-of-type {\n",
              "        vertical-align: middle;\n",
              "    }\n",
              "\n",
              "    .dataframe tbody tr th {\n",
              "        vertical-align: top;\n",
              "    }\n",
              "\n",
              "    .dataframe thead th {\n",
              "        text-align: right;\n",
              "    }\n",
              "</style>\n",
              "<table border=\"1\" class=\"dataframe\">\n",
              "  <thead>\n",
              "    <tr style=\"text-align: right;\">\n",
              "      <th></th>\n",
              "      <th>user_id</th>\n",
              "      <th>movie_id</th>\n",
              "      <th>rating</th>\n",
              "    </tr>\n",
              "  </thead>\n",
              "  <tbody>\n",
              "    <tr>\n",
              "      <th>72</th>\n",
              "      <td>1</td>\n",
              "      <td>3104</td>\n",
              "      <td>4</td>\n",
              "    </tr>\n",
              "    <tr>\n",
              "      <th>107</th>\n",
              "      <td>1</td>\n",
              "      <td>2027</td>\n",
              "      <td>4</td>\n",
              "    </tr>\n",
              "    <tr>\n",
              "      <th>120</th>\n",
              "      <td>1</td>\n",
              "      <td>1192</td>\n",
              "      <td>5</td>\n",
              "    </tr>\n",
              "    <tr>\n",
              "      <th>150</th>\n",
              "      <td>1</td>\n",
              "      <td>2320</td>\n",
              "      <td>3</td>\n",
              "    </tr>\n",
              "    <tr>\n",
              "      <th>168</th>\n",
              "      <td>1</td>\n",
              "      <td>1961</td>\n",
              "      <td>5</td>\n",
              "    </tr>\n",
              "    <tr>\n",
              "      <th>173</th>\n",
              "      <td>1</td>\n",
              "      <td>1206</td>\n",
              "      <td>4</td>\n",
              "    </tr>\n",
              "    <tr>\n",
              "      <th>179</th>\n",
              "      <td>1</td>\n",
              "      <td>1245</td>\n",
              "      <td>5</td>\n",
              "    </tr>\n",
              "  </tbody>\n",
              "</table>\n",
              "</div>"
            ],
            "text/plain": [
              "     user_id  movie_id  rating\n",
              "72         1      3104       4\n",
              "107        1      2027       4\n",
              "120        1      1192       5\n",
              "150        1      2320       3\n",
              "168        1      1961       5\n",
              "173        1      1206       4\n",
              "179        1      1245       5"
            ]
          },
          "metadata": {
            "tags": []
          },
          "execution_count": 484
        }
      ]
    },
    {
      "cell_type": "markdown",
      "metadata": {
        "id": "GWnWyX5Sc-Ii"
      },
      "source": [
        "###2. Calculating a similarity score:"
      ]
    },
    {
      "cell_type": "code",
      "metadata": {
        "id": "JW0ztzzXZKks"
      },
      "source": [
        "def getSimilarityScore(watchedMovies, similarUsers):\n",
        "  '''\n",
        "  description: this function calculates the pearson's similarity between our user and the other users who watched the same movies.\n",
        "  parameters:\n",
        "    watchedMovies: the targeted user's watch history.\n",
        "    similarUsers: users that have seen the same movies.\n",
        "\n",
        "  output:\n",
        "    similarity score for each watched movie.\n",
        "  '''\n",
        "  groupedUsers = similarUsers.groupby(['user_id'])\n",
        "  groupedUsers = sorted(groupedUsers,  key=lambda x: len(x[1]), reverse=True)\n",
        "  #we will keep only the 50 first rows\n",
        "  groupedUsers = groupedUsers[0:50]\n",
        "  pearsonScore = {}\n",
        "  #For every user group in our subset\n",
        "  for name, group in groupedUsers:\n",
        "      #Let's start by sorting the input and current user group so the values aren't mixed up later on\n",
        "      group = group.sort_values(by='movie_id')\n",
        "      watchedMovies = watchedMovies.sort_values(by='movie_id')\n",
        "      #Get the N for the formula\n",
        "      n = len(group)\n",
        "      #Get the review scores for the movies that they both have in common\n",
        "      temp = watchedMovies[watchedMovies['movie_id'].isin(group['movie_id'].tolist())]\n",
        "      #And then store them in a temporary buffer variable in a list format to facilitate future calculations\n",
        "      tempRatingList = temp['rating'].tolist()\n",
        "      #put the current user group reviews in a list format\n",
        "      tempGroupList = group['rating'].tolist()\n",
        "      #Now let's calculate the pearson correlation between two users, so called, x and y\n",
        "      Sxx = sum([i**2 for i in tempRatingList]) - pow(sum(tempRatingList),2)/float(n)\n",
        "      Syy = sum([i**2 for i in tempGroupList]) - pow(sum(tempGroupList),2)/float(n)\n",
        "      Sxy = sum( i*j for i, j in zip(tempRatingList, tempGroupList)) - sum(tempRatingList)*sum(tempGroupList)/float(n)\n",
        "      \n",
        "      #If the denominator is different than zero, then divide, else, 0 correlation.\n",
        "      if Sxx != 0 and Syy != 0:\n",
        "          pearsonScore[name] = Sxy/sqrt(Sxx*Syy)\n",
        "      else:\n",
        "          pearsonScore[name] = 0\n",
        "  similarityScore = pd.DataFrame.from_dict(pearsonScore, orient='index')\n",
        "  similarityScore.columns = ['similarity_score']\n",
        "  similarityScore['user_id'] = similarityScore.index\n",
        "  similarityScore.index = range(len(similarityScore))\n",
        "  similarityScore = similarityScore.sort_values(by='similarity_score', ascending=False)[0:50]\n",
        "  return similarityScore"
      ],
      "execution_count": 506,
      "outputs": []
    },
    {
      "cell_type": "markdown",
      "metadata": {
        "id": "Zqw0XnducR75"
      },
      "source": [
        "Of course we can see that the similarity score for the targeted user is equal to 1. In fact, for score=1 the similarity is maximal and for score=-1 the similarity is minimal. We're going to remove the first row to avoid a wrong recommendation."
      ]
    },
    {
      "cell_type": "code",
      "metadata": {
        "colab": {
          "base_uri": "https://localhost:8080/",
          "height": 195
        },
        "id": "mhgIl09NbXmx",
        "outputId": "df0dcd47-84b5-4b93-f485-f702efaf2449"
      },
      "source": [
        "getSimilarityScore(watchedMovies, similarUsers).head()"
      ],
      "execution_count": 513,
      "outputs": [
        {
          "output_type": "execute_result",
          "data": {
            "text/html": [
              "<div>\n",
              "<style scoped>\n",
              "    .dataframe tbody tr th:only-of-type {\n",
              "        vertical-align: middle;\n",
              "    }\n",
              "\n",
              "    .dataframe tbody tr th {\n",
              "        vertical-align: top;\n",
              "    }\n",
              "\n",
              "    .dataframe thead th {\n",
              "        text-align: right;\n",
              "    }\n",
              "</style>\n",
              "<table border=\"1\" class=\"dataframe\">\n",
              "  <thead>\n",
              "    <tr style=\"text-align: right;\">\n",
              "      <th></th>\n",
              "      <th>similarity_score</th>\n",
              "      <th>user_id</th>\n",
              "    </tr>\n",
              "  </thead>\n",
              "  <tbody>\n",
              "    <tr>\n",
              "      <th>0</th>\n",
              "      <td>1.000000</td>\n",
              "      <td>0</td>\n",
              "    </tr>\n",
              "    <tr>\n",
              "      <th>45</th>\n",
              "      <td>0.429900</td>\n",
              "      <td>1612</td>\n",
              "    </tr>\n",
              "    <tr>\n",
              "      <th>13</th>\n",
              "      <td>0.409159</td>\n",
              "      <td>677</td>\n",
              "    </tr>\n",
              "    <tr>\n",
              "      <th>3</th>\n",
              "      <td>0.348491</td>\n",
              "      <td>2072</td>\n",
              "    </tr>\n",
              "    <tr>\n",
              "      <th>48</th>\n",
              "      <td>0.337346</td>\n",
              "      <td>1779</td>\n",
              "    </tr>\n",
              "  </tbody>\n",
              "</table>\n",
              "</div>"
            ],
            "text/plain": [
              "    similarity_score  user_id\n",
              "0           1.000000        0\n",
              "45          0.429900     1612\n",
              "13          0.409159      677\n",
              "3           0.348491     2072\n",
              "48          0.337346     1779"
            ]
          },
          "metadata": {
            "tags": []
          },
          "execution_count": 513
        }
      ]
    },
    {
      "cell_type": "markdown",
      "metadata": {
        "id": "22h6tXU0dC8w"
      },
      "source": [
        "###3- Performing the recommendation:"
      ]
    },
    {
      "cell_type": "code",
      "metadata": {
        "id": "2V9eMCPDb0zY"
      },
      "source": [
        "def getRecommendation(user_id, ratings, movies):\n",
        "  '''\n",
        "  description: this function gives a collaborative based movie recommendation given a user, ratings, and movies.\n",
        "  parameters:\n",
        "    user_id: the targeted user's id (int).\n",
        "    ratings: a dataFrame of the ratings of the whole dataset.\n",
        "    movies: a dataFrame the movies of the whole dataset.\n",
        "  output:\n",
        "    recommendedMovies: a dataFrame of the recommendedMovies.\n",
        "  '''\n",
        "  watchedMovies, similarUsers = getWatchedMovies(0, ratings, movies)\n",
        "  similarityScore = getSimilarityScore(watchedMovies, similarUsers)\n",
        "  #removing the targeted user's score which is equal to 1.\n",
        "  similarityScore = similarityScore.iloc[1:]\n",
        "  #merging with the ratings dataFrame to get the ratings of the similar users.\n",
        "  topUsersRating = similarityScore.merge(ratings, left_on='user_id', right_on='user_id', how='inner')\n",
        "  #calculating a weighed value of the rating based on the similarity score\n",
        "  topUsersRating['weighted_rating'] = topUsersRating['similarity_score'] * topUsersRating['rating']\n",
        "  #calculating a sum of the weighted ratings for each movie\n",
        "  tempTopUsersRating = topUsersRating.groupby('movie_id').sum()[['similarity_score','weighted_rating']]\n",
        "  tempTopUsersRating.columns = ['sum_similarity_index', 'sum_weighted_rating']\n",
        "  recommendedMovies = pd.DataFrame()\n",
        "  #Getting the average of weighted ratings\n",
        "  recommendedMovies['weighted_average_recommendation_score'] = tempTopUsersRating['sum_weighted_rating']/tempTopUsersRating['sum_similarity_index']\n",
        "  recommendedMovies['movie_id'] = tempTopUsersRating.index\n",
        "  #sorting by the value of the weighted average recommendation score\n",
        "  recommendedMovies = recommendedMovies.sort_values(by='weighted_average_recommendation_score', ascending=False)\n",
        "  #returning the top 10 most similar movies\n",
        "  return movies.loc[movies['movie_id'].isin(recommendedMovies.head(10)['movie_id'].tolist())]"
      ],
      "execution_count": 520,
      "outputs": []
    },
    {
      "cell_type": "code",
      "metadata": {
        "colab": {
          "base_uri": "https://localhost:8080/",
          "height": 343
        },
        "id": "20_DAV1le0MS",
        "outputId": "93f4d078-b591-419e-f718-20411dab2bbb"
      },
      "source": [
        "getRecommendation(0, ratings, noCategoriesMovies)"
      ],
      "execution_count": 521,
      "outputs": [
        {
          "output_type": "execute_result",
          "data": {
            "text/html": [
              "<div>\n",
              "<style scoped>\n",
              "    .dataframe tbody tr th:only-of-type {\n",
              "        vertical-align: middle;\n",
              "    }\n",
              "\n",
              "    .dataframe tbody tr th {\n",
              "        vertical-align: top;\n",
              "    }\n",
              "\n",
              "    .dataframe thead th {\n",
              "        text-align: right;\n",
              "    }\n",
              "</style>\n",
              "<table border=\"1\" class=\"dataframe\">\n",
              "  <thead>\n",
              "    <tr style=\"text-align: right;\">\n",
              "      <th></th>\n",
              "      <th>movie_id</th>\n",
              "      <th>title</th>\n",
              "      <th>year</th>\n",
              "    </tr>\n",
              "  </thead>\n",
              "  <tbody>\n",
              "    <tr>\n",
              "      <th>310</th>\n",
              "      <td>312</td>\n",
              "      <td>Swan Princess, The</td>\n",
              "      <td>1994</td>\n",
              "    </tr>\n",
              "    <tr>\n",
              "      <th>458</th>\n",
              "      <td>461</td>\n",
              "      <td>Good Man in Africa, A</td>\n",
              "      <td>1994</td>\n",
              "    </tr>\n",
              "    <tr>\n",
              "      <th>1714</th>\n",
              "      <td>1769</td>\n",
              "      <td>B. Monkey</td>\n",
              "      <td>1998</td>\n",
              "    </tr>\n",
              "    <tr>\n",
              "      <th>1833</th>\n",
              "      <td>1901</td>\n",
              "      <td>Dream for an Insomniac</td>\n",
              "      <td>1996</td>\n",
              "    </tr>\n",
              "    <tr>\n",
              "      <th>2035</th>\n",
              "      <td>2103</td>\n",
              "      <td>Tex</td>\n",
              "      <td>1982</td>\n",
              "    </tr>\n",
              "    <tr>\n",
              "      <th>2256</th>\n",
              "      <td>2324</td>\n",
              "      <td>Orgazmo</td>\n",
              "      <td>1997</td>\n",
              "    </tr>\n",
              "    <tr>\n",
              "      <th>2624</th>\n",
              "      <td>2692</td>\n",
              "      <td>Trekkies</td>\n",
              "      <td>1997</td>\n",
              "    </tr>\n",
              "    <tr>\n",
              "      <th>2804</th>\n",
              "      <td>2872</td>\n",
              "      <td>Lulu on the Bridge</td>\n",
              "      <td>1998</td>\n",
              "    </tr>\n",
              "    <tr>\n",
              "      <th>2980</th>\n",
              "      <td>3048</td>\n",
              "      <td>How I Won the War</td>\n",
              "      <td>1967</td>\n",
              "    </tr>\n",
              "    <tr>\n",
              "      <th>3247</th>\n",
              "      <td>3315</td>\n",
              "      <td>Reindeer Games</td>\n",
              "      <td>2000</td>\n",
              "    </tr>\n",
              "  </tbody>\n",
              "</table>\n",
              "</div>"
            ],
            "text/plain": [
              "      movie_id                   title  year\n",
              "310        312      Swan Princess, The  1994\n",
              "458        461   Good Man in Africa, A  1994\n",
              "1714      1769               B. Monkey  1998\n",
              "1833      1901  Dream for an Insomniac  1996\n",
              "2035      2103                     Tex  1982\n",
              "2256      2324                 Orgazmo  1997\n",
              "2624      2692                Trekkies  1997\n",
              "2804      2872      Lulu on the Bridge  1998\n",
              "2980      3048       How I Won the War  1967\n",
              "3247      3315          Reindeer Games  2000"
            ]
          },
          "metadata": {
            "tags": []
          },
          "execution_count": 521
        }
      ]
    },
    {
      "cell_type": "markdown",
      "metadata": {
        "id": "15tCipEqgv2i"
      },
      "source": [
        "#Results analysis, and comparison between the two methods:"
      ]
    },
    {
      "cell_type": "markdown",
      "metadata": {
        "id": "coe9FeTrg_3K"
      },
      "source": [
        "let's see the movies recommended by both approachs"
      ]
    },
    {
      "cell_type": "code",
      "metadata": {
        "colab": {
          "base_uri": "https://localhost:8080/",
          "height": 422
        },
        "id": "H91Te7nug3eo",
        "outputId": "052cda47-665a-4f56-b6ed-99f6a129c658"
      },
      "source": [
        "recommendMovie(0, movies, ratings, limit=20)"
      ],
      "execution_count": 530,
      "outputs": [
        {
          "output_type": "execute_result",
          "data": {
            "text/html": [
              "<div>\n",
              "<style scoped>\n",
              "    .dataframe tbody tr th:only-of-type {\n",
              "        vertical-align: middle;\n",
              "    }\n",
              "\n",
              "    .dataframe tbody tr th {\n",
              "        vertical-align: top;\n",
              "    }\n",
              "\n",
              "    .dataframe thead th {\n",
              "        text-align: right;\n",
              "    }\n",
              "</style>\n",
              "<table border=\"1\" class=\"dataframe\">\n",
              "  <thead>\n",
              "    <tr style=\"text-align: right;\">\n",
              "      <th></th>\n",
              "      <th>movie_id</th>\n",
              "      <th>title</th>\n",
              "      <th>year</th>\n",
              "      <th>Animation</th>\n",
              "      <th>Children's</th>\n",
              "      <th>Comedy</th>\n",
              "      <th>Adventure</th>\n",
              "      <th>Fantasy</th>\n",
              "      <th>Romance</th>\n",
              "      <th>Drama</th>\n",
              "      <th>Action</th>\n",
              "      <th>Crime</th>\n",
              "      <th>Thriller</th>\n",
              "      <th>Horror</th>\n",
              "      <th>Sci-Fi</th>\n",
              "      <th>Documentary</th>\n",
              "      <th>War</th>\n",
              "      <th>Musical</th>\n",
              "      <th>Mystery</th>\n",
              "      <th>Film-Noir</th>\n",
              "      <th>Western</th>\n",
              "    </tr>\n",
              "  </thead>\n",
              "  <tbody>\n",
              "    <tr>\n",
              "      <th>0</th>\n",
              "      <td>0</td>\n",
              "      <td>Toy Story</td>\n",
              "      <td>1995</td>\n",
              "      <td>1.0</td>\n",
              "      <td>1.0</td>\n",
              "      <td>1.0</td>\n",
              "      <td>0.0</td>\n",
              "      <td>0.0</td>\n",
              "      <td>0.0</td>\n",
              "      <td>0.0</td>\n",
              "      <td>0.0</td>\n",
              "      <td>0.0</td>\n",
              "      <td>0.0</td>\n",
              "      <td>0.0</td>\n",
              "      <td>0.0</td>\n",
              "      <td>0.0</td>\n",
              "      <td>0.0</td>\n",
              "      <td>0.0</td>\n",
              "      <td>0.0</td>\n",
              "      <td>0.0</td>\n",
              "      <td>0.0</td>\n",
              "    </tr>\n",
              "    <tr>\n",
              "      <th>47</th>\n",
              "      <td>47</td>\n",
              "      <td>Pocahontas</td>\n",
              "      <td>1995</td>\n",
              "      <td>1.0</td>\n",
              "      <td>1.0</td>\n",
              "      <td>0.0</td>\n",
              "      <td>0.0</td>\n",
              "      <td>0.0</td>\n",
              "      <td>1.0</td>\n",
              "      <td>0.0</td>\n",
              "      <td>0.0</td>\n",
              "      <td>0.0</td>\n",
              "      <td>0.0</td>\n",
              "      <td>0.0</td>\n",
              "      <td>0.0</td>\n",
              "      <td>0.0</td>\n",
              "      <td>0.0</td>\n",
              "      <td>1.0</td>\n",
              "      <td>0.0</td>\n",
              "      <td>0.0</td>\n",
              "      <td>0.0</td>\n",
              "    </tr>\n",
              "    <tr>\n",
              "      <th>3</th>\n",
              "      <td>3</td>\n",
              "      <td>Waiting to Exhale</td>\n",
              "      <td>1995</td>\n",
              "      <td>0.0</td>\n",
              "      <td>0.0</td>\n",
              "      <td>1.0</td>\n",
              "      <td>0.0</td>\n",
              "      <td>0.0</td>\n",
              "      <td>0.0</td>\n",
              "      <td>1.0</td>\n",
              "      <td>0.0</td>\n",
              "      <td>0.0</td>\n",
              "      <td>0.0</td>\n",
              "      <td>0.0</td>\n",
              "      <td>0.0</td>\n",
              "      <td>0.0</td>\n",
              "      <td>0.0</td>\n",
              "      <td>0.0</td>\n",
              "      <td>0.0</td>\n",
              "      <td>0.0</td>\n",
              "      <td>0.0</td>\n",
              "    </tr>\n",
              "    <tr>\n",
              "      <th>40</th>\n",
              "      <td>40</td>\n",
              "      <td>Richard III</td>\n",
              "      <td>1995</td>\n",
              "      <td>0.0</td>\n",
              "      <td>0.0</td>\n",
              "      <td>0.0</td>\n",
              "      <td>0.0</td>\n",
              "      <td>0.0</td>\n",
              "      <td>0.0</td>\n",
              "      <td>1.0</td>\n",
              "      <td>0.0</td>\n",
              "      <td>0.0</td>\n",
              "      <td>0.0</td>\n",
              "      <td>0.0</td>\n",
              "      <td>0.0</td>\n",
              "      <td>0.0</td>\n",
              "      <td>1.0</td>\n",
              "      <td>0.0</td>\n",
              "      <td>0.0</td>\n",
              "      <td>0.0</td>\n",
              "      <td>0.0</td>\n",
              "    </tr>\n",
              "    <tr>\n",
              "      <th>106</th>\n",
              "      <td>107</td>\n",
              "      <td>Catwalk</td>\n",
              "      <td>1995</td>\n",
              "      <td>0.0</td>\n",
              "      <td>0.0</td>\n",
              "      <td>0.0</td>\n",
              "      <td>0.0</td>\n",
              "      <td>0.0</td>\n",
              "      <td>0.0</td>\n",
              "      <td>0.0</td>\n",
              "      <td>0.0</td>\n",
              "      <td>0.0</td>\n",
              "      <td>0.0</td>\n",
              "      <td>0.0</td>\n",
              "      <td>0.0</td>\n",
              "      <td>1.0</td>\n",
              "      <td>0.0</td>\n",
              "      <td>0.0</td>\n",
              "      <td>0.0</td>\n",
              "      <td>0.0</td>\n",
              "      <td>0.0</td>\n",
              "    </tr>\n",
              "    <tr>\n",
              "      <th>255</th>\n",
              "      <td>257</td>\n",
              "      <td>Kid in King Arthur's Court, A</td>\n",
              "      <td>1995</td>\n",
              "      <td>0.0</td>\n",
              "      <td>1.0</td>\n",
              "      <td>1.0</td>\n",
              "      <td>1.0</td>\n",
              "      <td>1.0</td>\n",
              "      <td>1.0</td>\n",
              "      <td>0.0</td>\n",
              "      <td>0.0</td>\n",
              "      <td>0.0</td>\n",
              "      <td>0.0</td>\n",
              "      <td>0.0</td>\n",
              "      <td>0.0</td>\n",
              "      <td>0.0</td>\n",
              "      <td>0.0</td>\n",
              "      <td>0.0</td>\n",
              "      <td>0.0</td>\n",
              "      <td>0.0</td>\n",
              "      <td>0.0</td>\n",
              "    </tr>\n",
              "    <tr>\n",
              "      <th>167</th>\n",
              "      <td>168</td>\n",
              "      <td>Free Willy 2: The Adventure Home</td>\n",
              "      <td>1995</td>\n",
              "      <td>0.0</td>\n",
              "      <td>1.0</td>\n",
              "      <td>0.0</td>\n",
              "      <td>1.0</td>\n",
              "      <td>0.0</td>\n",
              "      <td>0.0</td>\n",
              "      <td>1.0</td>\n",
              "      <td>0.0</td>\n",
              "      <td>0.0</td>\n",
              "      <td>0.0</td>\n",
              "      <td>0.0</td>\n",
              "      <td>0.0</td>\n",
              "      <td>0.0</td>\n",
              "      <td>0.0</td>\n",
              "      <td>0.0</td>\n",
              "      <td>0.0</td>\n",
              "      <td>0.0</td>\n",
              "      <td>0.0</td>\n",
              "    </tr>\n",
              "    <tr>\n",
              "      <th>109</th>\n",
              "      <td>110</td>\n",
              "      <td>Taxi Driver</td>\n",
              "      <td>1976</td>\n",
              "      <td>0.0</td>\n",
              "      <td>0.0</td>\n",
              "      <td>0.0</td>\n",
              "      <td>0.0</td>\n",
              "      <td>0.0</td>\n",
              "      <td>0.0</td>\n",
              "      <td>1.0</td>\n",
              "      <td>0.0</td>\n",
              "      <td>0.0</td>\n",
              "      <td>1.0</td>\n",
              "      <td>0.0</td>\n",
              "      <td>0.0</td>\n",
              "      <td>0.0</td>\n",
              "      <td>0.0</td>\n",
              "      <td>0.0</td>\n",
              "      <td>0.0</td>\n",
              "      <td>0.0</td>\n",
              "      <td>0.0</td>\n",
              "    </tr>\n",
              "  </tbody>\n",
              "</table>\n",
              "</div>"
            ],
            "text/plain": [
              "     movie_id                             title  ...  Film-Noir  Western\n",
              "0           0                         Toy Story  ...        0.0      0.0\n",
              "47         47                        Pocahontas  ...        0.0      0.0\n",
              "3           3                 Waiting to Exhale  ...        0.0      0.0\n",
              "40         40                       Richard III  ...        0.0      0.0\n",
              "106       107                           Catwalk  ...        0.0      0.0\n",
              "255       257     Kid in King Arthur's Court, A  ...        0.0      0.0\n",
              "167       168  Free Willy 2: The Adventure Home  ...        0.0      0.0\n",
              "109       110                       Taxi Driver  ...        0.0      0.0\n",
              "\n",
              "[8 rows x 21 columns]"
            ]
          },
          "metadata": {
            "tags": []
          },
          "execution_count": 530
        }
      ]
    },
    {
      "cell_type": "code",
      "metadata": {
        "colab": {
          "base_uri": "https://localhost:8080/",
          "height": 343
        },
        "id": "a0p56qvIhD4V",
        "outputId": "48539736-b99a-440f-bfa1-8078667f41c2"
      },
      "source": [
        "getRecommendation(0, ratings, noCategoriesMovies)"
      ],
      "execution_count": 528,
      "outputs": [
        {
          "output_type": "execute_result",
          "data": {
            "text/html": [
              "<div>\n",
              "<style scoped>\n",
              "    .dataframe tbody tr th:only-of-type {\n",
              "        vertical-align: middle;\n",
              "    }\n",
              "\n",
              "    .dataframe tbody tr th {\n",
              "        vertical-align: top;\n",
              "    }\n",
              "\n",
              "    .dataframe thead th {\n",
              "        text-align: right;\n",
              "    }\n",
              "</style>\n",
              "<table border=\"1\" class=\"dataframe\">\n",
              "  <thead>\n",
              "    <tr style=\"text-align: right;\">\n",
              "      <th></th>\n",
              "      <th>movie_id</th>\n",
              "      <th>title</th>\n",
              "      <th>year</th>\n",
              "    </tr>\n",
              "  </thead>\n",
              "  <tbody>\n",
              "    <tr>\n",
              "      <th>310</th>\n",
              "      <td>312</td>\n",
              "      <td>Swan Princess, The</td>\n",
              "      <td>1994</td>\n",
              "    </tr>\n",
              "    <tr>\n",
              "      <th>458</th>\n",
              "      <td>461</td>\n",
              "      <td>Good Man in Africa, A</td>\n",
              "      <td>1994</td>\n",
              "    </tr>\n",
              "    <tr>\n",
              "      <th>1714</th>\n",
              "      <td>1769</td>\n",
              "      <td>B. Monkey</td>\n",
              "      <td>1998</td>\n",
              "    </tr>\n",
              "    <tr>\n",
              "      <th>1833</th>\n",
              "      <td>1901</td>\n",
              "      <td>Dream for an Insomniac</td>\n",
              "      <td>1996</td>\n",
              "    </tr>\n",
              "    <tr>\n",
              "      <th>2035</th>\n",
              "      <td>2103</td>\n",
              "      <td>Tex</td>\n",
              "      <td>1982</td>\n",
              "    </tr>\n",
              "    <tr>\n",
              "      <th>2256</th>\n",
              "      <td>2324</td>\n",
              "      <td>Orgazmo</td>\n",
              "      <td>1997</td>\n",
              "    </tr>\n",
              "    <tr>\n",
              "      <th>2624</th>\n",
              "      <td>2692</td>\n",
              "      <td>Trekkies</td>\n",
              "      <td>1997</td>\n",
              "    </tr>\n",
              "    <tr>\n",
              "      <th>2804</th>\n",
              "      <td>2872</td>\n",
              "      <td>Lulu on the Bridge</td>\n",
              "      <td>1998</td>\n",
              "    </tr>\n",
              "    <tr>\n",
              "      <th>2980</th>\n",
              "      <td>3048</td>\n",
              "      <td>How I Won the War</td>\n",
              "      <td>1967</td>\n",
              "    </tr>\n",
              "    <tr>\n",
              "      <th>3247</th>\n",
              "      <td>3315</td>\n",
              "      <td>Reindeer Games</td>\n",
              "      <td>2000</td>\n",
              "    </tr>\n",
              "  </tbody>\n",
              "</table>\n",
              "</div>"
            ],
            "text/plain": [
              "      movie_id                   title  year\n",
              "310        312      Swan Princess, The  1994\n",
              "458        461   Good Man in Africa, A  1994\n",
              "1714      1769               B. Monkey  1998\n",
              "1833      1901  Dream for an Insomniac  1996\n",
              "2035      2103                     Tex  1982\n",
              "2256      2324                 Orgazmo  1997\n",
              "2624      2692                Trekkies  1997\n",
              "2804      2872      Lulu on the Bridge  1998\n",
              "2980      3048       How I Won the War  1967\n",
              "3247      3315          Reindeer Games  2000"
            ]
          },
          "metadata": {
            "tags": []
          },
          "execution_count": 528
        }
      ]
    },
    {
      "cell_type": "markdown",
      "metadata": {
        "id": "iP4zcGJFhQNC"
      },
      "source": [
        "We can see that the recommended movies are not similar for both approachs and this can explained by the difference in the two methods. In fact the first gets it's data from specifically the targeted user's pereferences in terms of movies and similarity between the other movies, while the second method gives a similarity based on other similar users pereferences. Both methods are good at recommendation, but the collaborative-based method don't scale well since we'll have higher time of computation when the number of users increases + the collaborative filtering don't resolve the \"cold start problem\" for new movies since we don't have enough data on the ratings, while content-based recommendation can resolve this issue since it's based on similarity in terms of categories not ratings."
      ]
    },
    {
      "cell_type": "markdown",
      "metadata": {
        "id": "uVYlY8Wdiw_0"
      },
      "source": [
        "To evaluate the performance of the two methods we can perform MSE score evaluation between the target users preferences and the given ones. Other metrics can be also considered such as MAE, and decision support methods. However we need to know what are the relevant recommendations, to do that we can split the ratings for a given user and then evaluate on a part and compare with the other one."
      ]
    },
    {
      "cell_type": "markdown",
      "metadata": {
        "id": "OWDOIKy-f0bq"
      },
      "source": [
        "#Conclusion"
      ]
    },
    {
      "cell_type": "markdown",
      "metadata": {
        "id": "XFCpktw0f2kq"
      },
      "source": [
        "In this notebook, I've been able to implement both the content-based recommendation technique and the collaborative filtering recommendation technique. I've tried to write a clean code using generic functions with descriptions. I also had the chance to understand and analyze the problem using data visualization and data exploration, I also analyzed the different techniques and it's advantages and disadvantages during the implementation."
      ]
    }
  ]
}